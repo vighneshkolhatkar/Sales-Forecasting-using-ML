{
 "cells": [
  {
   "cell_type": "markdown",
   "metadata": {
    "collapsed": true,
    "deletable": true,
    "editable": true
   },
   "source": [
    "#### Sales Forecasting using ML for Retail Outlet (Walmart)"
   ]
  },
  {
   "cell_type": "code",
   "execution_count": 1,
   "metadata": {
    "collapsed": false,
    "deletable": true,
    "editable": true
   },
   "outputs": [
    {
     "name": "stderr",
     "output_type": "stream",
     "text": [
      "C:\\Users\\samee\\AppData\\Local\\Enthought\\Canopy\\edm\\envs\\User\\lib\\site-packages\\sklearn\\cross_validation.py:44: DeprecationWarning: This module was deprecated in version 0.18 in favor of the model_selection module into which all the refactored classes and functions are moved. Also note that the interface of the new CV iterators are different from that of this module. This module will be removed in 0.20.\n",
      "  \"This module will be removed in 0.20.\", DeprecationWarning)\n"
     ]
    }
   ],
   "source": [
    "import numpy as np\n",
    "import pandas as pd\n",
    "\n",
    "import matplotlib.pylab as plt\n",
    "import seaborn as sns\n",
    "#import pandas_profiling\n",
    "\n",
    "\n",
    "from datetime import datetime\n",
    "\n",
    "import statsmodels.api as sm\n",
    "from sklearn import metrics\n",
    "from sklearn.cross_validation import train_test_split\n",
    "from sklearn.linear_model import LinearRegression\n",
    "from sklearn.ensemble import RandomForestRegressor\n",
    "from sklearn.tree import DecisionTreeRegressor\n",
    "from sklearn.ensemble import AdaBoostRegressor\n",
    "from sklearn.ensemble import GradientBoostingRegressor\n",
    "#from sklearn.svm import SVC, LinearSVC, SVR\n",
    "from sklearn.metrics import mean_squared_error as mse\n",
    "from sklearn.metrics import mean_absolute_error, mean_squared_error"
   ]
  },
  {
   "cell_type": "markdown",
   "metadata": {
    "deletable": true,
    "editable": true
   },
   "source": [
    "### Data Pre-Processing "
   ]
  },
  {
   "cell_type": "code",
   "execution_count": 2,
   "metadata": {
    "collapsed": true,
    "deletable": true,
    "editable": true
   },
   "outputs": [],
   "source": [
    "train = pd.read_csv('data/train.csv')\n",
    "feature = pd.read_csv('data/features.csv')\n",
    "test = pd.read_csv('data/test.csv')\n",
    "stores = pd.read_csv('data/stores.csv')\n"
   ]
  },
  {
   "cell_type": "code",
   "execution_count": 3,
   "metadata": {
    "collapsed": false,
    "deletable": true,
    "editable": true
   },
   "outputs": [],
   "source": [
    "#! pip install xlsxwriter --user\n",
    "#import xlsxwriter\n",
    "# For Output_excel file...\n",
    "#writer=pd.ExcelWriter('Walmart Store Sales Prediction output.xlsx', engine='xlsxwriter')"
   ]
  },
  {
   "cell_type": "markdown",
   "metadata": {
    "deletable": true,
    "editable": true
   },
   "source": [
    "    Merging the DataSet \n",
    "      -(train+Store+Feature) \n",
    "      -(test+Store+Feature)"
   ]
  },
  {
   "cell_type": "code",
   "execution_count": 4,
   "metadata": {
    "collapsed": false,
    "deletable": true,
    "editable": true
   },
   "outputs": [],
   "source": [
    "dataset = pd.merge(train,test, how='left')\n",
    "train_bt = pd.merge(dataset,stores) \n",
    "dataset = pd.merge(train_bt,feature)\n",
    "\n",
    "train, test = train_test_split(dataset, test_size=0.33)\n"
   ]
  },
  {
   "cell_type": "code",
   "execution_count": 5,
   "metadata": {
    "collapsed": false,
    "deletable": true,
    "editable": true
   },
   "outputs": [
    {
     "data": {
      "text/html": [
       "<div>\n",
       "<table border=\"1\" class=\"dataframe\">\n",
       "  <thead>\n",
       "    <tr style=\"text-align: right;\">\n",
       "      <th></th>\n",
       "      <th>Store</th>\n",
       "      <th>Dept</th>\n",
       "      <th>Date</th>\n",
       "      <th>Weekly_Sales</th>\n",
       "      <th>IsHoliday</th>\n",
       "      <th>Type</th>\n",
       "      <th>Size</th>\n",
       "      <th>Temperature</th>\n",
       "      <th>Fuel_Price</th>\n",
       "      <th>MarkDown1</th>\n",
       "      <th>MarkDown2</th>\n",
       "      <th>MarkDown3</th>\n",
       "      <th>MarkDown4</th>\n",
       "      <th>MarkDown5</th>\n",
       "      <th>CPI</th>\n",
       "      <th>Unemployment</th>\n",
       "    </tr>\n",
       "  </thead>\n",
       "  <tbody>\n",
       "    <tr>\n",
       "      <th>0</th>\n",
       "      <td>1</td>\n",
       "      <td>1</td>\n",
       "      <td>2010-02-05</td>\n",
       "      <td>24924.50</td>\n",
       "      <td>False</td>\n",
       "      <td>A</td>\n",
       "      <td>151315</td>\n",
       "      <td>42.31</td>\n",
       "      <td>2.572</td>\n",
       "      <td>NaN</td>\n",
       "      <td>NaN</td>\n",
       "      <td>NaN</td>\n",
       "      <td>NaN</td>\n",
       "      <td>NaN</td>\n",
       "      <td>211.096358</td>\n",
       "      <td>8.106</td>\n",
       "    </tr>\n",
       "    <tr>\n",
       "      <th>1</th>\n",
       "      <td>1</td>\n",
       "      <td>2</td>\n",
       "      <td>2010-02-05</td>\n",
       "      <td>50605.27</td>\n",
       "      <td>False</td>\n",
       "      <td>A</td>\n",
       "      <td>151315</td>\n",
       "      <td>42.31</td>\n",
       "      <td>2.572</td>\n",
       "      <td>NaN</td>\n",
       "      <td>NaN</td>\n",
       "      <td>NaN</td>\n",
       "      <td>NaN</td>\n",
       "      <td>NaN</td>\n",
       "      <td>211.096358</td>\n",
       "      <td>8.106</td>\n",
       "    </tr>\n",
       "    <tr>\n",
       "      <th>2</th>\n",
       "      <td>1</td>\n",
       "      <td>3</td>\n",
       "      <td>2010-02-05</td>\n",
       "      <td>13740.12</td>\n",
       "      <td>False</td>\n",
       "      <td>A</td>\n",
       "      <td>151315</td>\n",
       "      <td>42.31</td>\n",
       "      <td>2.572</td>\n",
       "      <td>NaN</td>\n",
       "      <td>NaN</td>\n",
       "      <td>NaN</td>\n",
       "      <td>NaN</td>\n",
       "      <td>NaN</td>\n",
       "      <td>211.096358</td>\n",
       "      <td>8.106</td>\n",
       "    </tr>\n",
       "    <tr>\n",
       "      <th>3</th>\n",
       "      <td>1</td>\n",
       "      <td>4</td>\n",
       "      <td>2010-02-05</td>\n",
       "      <td>39954.04</td>\n",
       "      <td>False</td>\n",
       "      <td>A</td>\n",
       "      <td>151315</td>\n",
       "      <td>42.31</td>\n",
       "      <td>2.572</td>\n",
       "      <td>NaN</td>\n",
       "      <td>NaN</td>\n",
       "      <td>NaN</td>\n",
       "      <td>NaN</td>\n",
       "      <td>NaN</td>\n",
       "      <td>211.096358</td>\n",
       "      <td>8.106</td>\n",
       "    </tr>\n",
       "    <tr>\n",
       "      <th>4</th>\n",
       "      <td>1</td>\n",
       "      <td>5</td>\n",
       "      <td>2010-02-05</td>\n",
       "      <td>32229.38</td>\n",
       "      <td>False</td>\n",
       "      <td>A</td>\n",
       "      <td>151315</td>\n",
       "      <td>42.31</td>\n",
       "      <td>2.572</td>\n",
       "      <td>NaN</td>\n",
       "      <td>NaN</td>\n",
       "      <td>NaN</td>\n",
       "      <td>NaN</td>\n",
       "      <td>NaN</td>\n",
       "      <td>211.096358</td>\n",
       "      <td>8.106</td>\n",
       "    </tr>\n",
       "  </tbody>\n",
       "</table>\n",
       "</div>"
      ],
      "text/plain": [
       "   Store  Dept        Date  Weekly_Sales IsHoliday Type    Size  Temperature  \\\n",
       "0      1     1  2010-02-05      24924.50     False    A  151315        42.31   \n",
       "1      1     2  2010-02-05      50605.27     False    A  151315        42.31   \n",
       "2      1     3  2010-02-05      13740.12     False    A  151315        42.31   \n",
       "3      1     4  2010-02-05      39954.04     False    A  151315        42.31   \n",
       "4      1     5  2010-02-05      32229.38     False    A  151315        42.31   \n",
       "\n",
       "   Fuel_Price  MarkDown1  MarkDown2  MarkDown3  MarkDown4  MarkDown5  \\\n",
       "0       2.572        NaN        NaN        NaN        NaN        NaN   \n",
       "1       2.572        NaN        NaN        NaN        NaN        NaN   \n",
       "2       2.572        NaN        NaN        NaN        NaN        NaN   \n",
       "3       2.572        NaN        NaN        NaN        NaN        NaN   \n",
       "4       2.572        NaN        NaN        NaN        NaN        NaN   \n",
       "\n",
       "          CPI  Unemployment  \n",
       "0  211.096358         8.106  \n",
       "1  211.096358         8.106  \n",
       "2  211.096358         8.106  \n",
       "3  211.096358         8.106  \n",
       "4  211.096358         8.106  "
      ]
     },
     "execution_count": 5,
     "metadata": {},
     "output_type": "execute_result"
    }
   ],
   "source": [
    "dataset.head()"
   ]
  },
  {
   "cell_type": "code",
   "execution_count": 6,
   "metadata": {
    "collapsed": false,
    "deletable": true,
    "editable": true,
    "scrolled": true
   },
   "outputs": [
    {
     "data": {
      "text/html": [
       "<div>\n",
       "<table border=\"1\" class=\"dataframe\">\n",
       "  <thead>\n",
       "    <tr style=\"text-align: right;\">\n",
       "      <th></th>\n",
       "      <th>Store</th>\n",
       "      <th>Dept</th>\n",
       "      <th>Date</th>\n",
       "      <th>Weekly_Sales</th>\n",
       "      <th>IsHoliday</th>\n",
       "      <th>Type</th>\n",
       "      <th>Size</th>\n",
       "      <th>Temperature</th>\n",
       "      <th>Fuel_Price</th>\n",
       "      <th>MarkDown1</th>\n",
       "      <th>MarkDown2</th>\n",
       "      <th>MarkDown3</th>\n",
       "      <th>MarkDown4</th>\n",
       "      <th>MarkDown5</th>\n",
       "      <th>CPI</th>\n",
       "      <th>Unemployment</th>\n",
       "    </tr>\n",
       "  </thead>\n",
       "  <tbody>\n",
       "    <tr>\n",
       "      <th>278300</th>\n",
       "      <td>29</td>\n",
       "      <td>25</td>\n",
       "      <td>2010-06-11</td>\n",
       "      <td>6350.20</td>\n",
       "      <td>False</td>\n",
       "      <td>B</td>\n",
       "      <td>93638</td>\n",
       "      <td>65.01</td>\n",
       "      <td>2.830</td>\n",
       "      <td>NaN</td>\n",
       "      <td>NaN</td>\n",
       "      <td>NaN</td>\n",
       "      <td>NaN</td>\n",
       "      <td>NaN</td>\n",
       "      <td>132.435742</td>\n",
       "      <td>10.160</td>\n",
       "    </tr>\n",
       "    <tr>\n",
       "      <th>201063</th>\n",
       "      <td>21</td>\n",
       "      <td>34</td>\n",
       "      <td>2011-02-04</td>\n",
       "      <td>12992.80</td>\n",
       "      <td>False</td>\n",
       "      <td>B</td>\n",
       "      <td>140167</td>\n",
       "      <td>36.33</td>\n",
       "      <td>2.989</td>\n",
       "      <td>NaN</td>\n",
       "      <td>NaN</td>\n",
       "      <td>NaN</td>\n",
       "      <td>NaN</td>\n",
       "      <td>NaN</td>\n",
       "      <td>212.224065</td>\n",
       "      <td>8.028</td>\n",
       "    </tr>\n",
       "    <tr>\n",
       "      <th>288936</th>\n",
       "      <td>30</td>\n",
       "      <td>32</td>\n",
       "      <td>2011-01-07</td>\n",
       "      <td>9.83</td>\n",
       "      <td>False</td>\n",
       "      <td>C</td>\n",
       "      <td>42988</td>\n",
       "      <td>44.24</td>\n",
       "      <td>2.976</td>\n",
       "      <td>NaN</td>\n",
       "      <td>NaN</td>\n",
       "      <td>NaN</td>\n",
       "      <td>NaN</td>\n",
       "      <td>NaN</td>\n",
       "      <td>211.064888</td>\n",
       "      <td>8.028</td>\n",
       "    </tr>\n",
       "    <tr>\n",
       "      <th>237207</th>\n",
       "      <td>25</td>\n",
       "      <td>50</td>\n",
       "      <td>2010-02-12</td>\n",
       "      <td>1325.00</td>\n",
       "      <td>True</td>\n",
       "      <td>B</td>\n",
       "      <td>128107</td>\n",
       "      <td>19.64</td>\n",
       "      <td>2.773</td>\n",
       "      <td>NaN</td>\n",
       "      <td>NaN</td>\n",
       "      <td>NaN</td>\n",
       "      <td>NaN</td>\n",
       "      <td>NaN</td>\n",
       "      <td>204.385747</td>\n",
       "      <td>8.187</td>\n",
       "    </tr>\n",
       "    <tr>\n",
       "      <th>64599</th>\n",
       "      <td>7</td>\n",
       "      <td>35</td>\n",
       "      <td>2011-09-02</td>\n",
       "      <td>322.34</td>\n",
       "      <td>False</td>\n",
       "      <td>B</td>\n",
       "      <td>70713</td>\n",
       "      <td>53.40</td>\n",
       "      <td>3.511</td>\n",
       "      <td>NaN</td>\n",
       "      <td>NaN</td>\n",
       "      <td>NaN</td>\n",
       "      <td>NaN</td>\n",
       "      <td>NaN</td>\n",
       "      <td>194.509211</td>\n",
       "      <td>8.622</td>\n",
       "    </tr>\n",
       "  </tbody>\n",
       "</table>\n",
       "</div>"
      ],
      "text/plain": [
       "        Store  Dept        Date  Weekly_Sales IsHoliday Type    Size  \\\n",
       "278300     29    25  2010-06-11       6350.20     False    B   93638   \n",
       "201063     21    34  2011-02-04      12992.80     False    B  140167   \n",
       "288936     30    32  2011-01-07          9.83     False    C   42988   \n",
       "237207     25    50  2010-02-12       1325.00      True    B  128107   \n",
       "64599       7    35  2011-09-02        322.34     False    B   70713   \n",
       "\n",
       "        Temperature  Fuel_Price  MarkDown1  MarkDown2  MarkDown3  MarkDown4  \\\n",
       "278300        65.01       2.830        NaN        NaN        NaN        NaN   \n",
       "201063        36.33       2.989        NaN        NaN        NaN        NaN   \n",
       "288936        44.24       2.976        NaN        NaN        NaN        NaN   \n",
       "237207        19.64       2.773        NaN        NaN        NaN        NaN   \n",
       "64599         53.40       3.511        NaN        NaN        NaN        NaN   \n",
       "\n",
       "        MarkDown5         CPI  Unemployment  \n",
       "278300        NaN  132.435742        10.160  \n",
       "201063        NaN  212.224065         8.028  \n",
       "288936        NaN  211.064888         8.028  \n",
       "237207        NaN  204.385747         8.187  \n",
       "64599         NaN  194.509211         8.622  "
      ]
     },
     "execution_count": 6,
     "metadata": {},
     "output_type": "execute_result"
    }
   ],
   "source": [
    "train.head(5)          "
   ]
  },
  {
   "cell_type": "code",
   "execution_count": 7,
   "metadata": {
    "collapsed": false,
    "deletable": true,
    "editable": true
   },
   "outputs": [
    {
     "data": {
      "text/html": [
       "<div>\n",
       "<table border=\"1\" class=\"dataframe\">\n",
       "  <thead>\n",
       "    <tr style=\"text-align: right;\">\n",
       "      <th></th>\n",
       "      <th>Store</th>\n",
       "      <th>Dept</th>\n",
       "      <th>Date</th>\n",
       "      <th>Weekly_Sales</th>\n",
       "      <th>IsHoliday</th>\n",
       "      <th>Type</th>\n",
       "      <th>Size</th>\n",
       "      <th>Temperature</th>\n",
       "      <th>Fuel_Price</th>\n",
       "      <th>MarkDown1</th>\n",
       "      <th>MarkDown2</th>\n",
       "      <th>MarkDown3</th>\n",
       "      <th>MarkDown4</th>\n",
       "      <th>MarkDown5</th>\n",
       "      <th>CPI</th>\n",
       "      <th>Unemployment</th>\n",
       "    </tr>\n",
       "  </thead>\n",
       "  <tbody>\n",
       "    <tr>\n",
       "      <th>380580</th>\n",
       "      <td>40</td>\n",
       "      <td>34</td>\n",
       "      <td>2012-09-21</td>\n",
       "      <td>6243.70</td>\n",
       "      <td>False</td>\n",
       "      <td>A</td>\n",
       "      <td>155083</td>\n",
       "      <td>54.12</td>\n",
       "      <td>4.056</td>\n",
       "      <td>3688.63</td>\n",
       "      <td>7.64</td>\n",
       "      <td>NaN</td>\n",
       "      <td>693.23</td>\n",
       "      <td>4870.36</td>\n",
       "      <td>138.653400</td>\n",
       "      <td>4.156</td>\n",
       "    </tr>\n",
       "    <tr>\n",
       "      <th>53380</th>\n",
       "      <td>6</td>\n",
       "      <td>36</td>\n",
       "      <td>2011-04-29</td>\n",
       "      <td>3131.00</td>\n",
       "      <td>False</td>\n",
       "      <td>A</td>\n",
       "      <td>202505</td>\n",
       "      <td>75.27</td>\n",
       "      <td>3.810</td>\n",
       "      <td>NaN</td>\n",
       "      <td>NaN</td>\n",
       "      <td>NaN</td>\n",
       "      <td>NaN</td>\n",
       "      <td>NaN</td>\n",
       "      <td>217.184725</td>\n",
       "      <td>6.855</td>\n",
       "    </tr>\n",
       "    <tr>\n",
       "      <th>227246</th>\n",
       "      <td>24</td>\n",
       "      <td>19</td>\n",
       "      <td>2010-03-12</td>\n",
       "      <td>155.22</td>\n",
       "      <td>False</td>\n",
       "      <td>A</td>\n",
       "      <td>203819</td>\n",
       "      <td>42.31</td>\n",
       "      <td>2.938</td>\n",
       "      <td>NaN</td>\n",
       "      <td>NaN</td>\n",
       "      <td>NaN</td>\n",
       "      <td>NaN</td>\n",
       "      <td>NaN</td>\n",
       "      <td>131.784000</td>\n",
       "      <td>8.326</td>\n",
       "    </tr>\n",
       "    <tr>\n",
       "      <th>18495</th>\n",
       "      <td>2</td>\n",
       "      <td>17</td>\n",
       "      <td>2012-04-20</td>\n",
       "      <td>11741.15</td>\n",
       "      <td>False</td>\n",
       "      <td>A</td>\n",
       "      <td>202307</td>\n",
       "      <td>65.69</td>\n",
       "      <td>3.877</td>\n",
       "      <td>7311.02</td>\n",
       "      <td>2236.20</td>\n",
       "      <td>33.53</td>\n",
       "      <td>878.07</td>\n",
       "      <td>4080.32</td>\n",
       "      <td>221.202107</td>\n",
       "      <td>6.891</td>\n",
       "    </tr>\n",
       "    <tr>\n",
       "      <th>20123</th>\n",
       "      <td>2</td>\n",
       "      <td>1</td>\n",
       "      <td>2012-09-28</td>\n",
       "      <td>27159.07</td>\n",
       "      <td>False</td>\n",
       "      <td>A</td>\n",
       "      <td>202307</td>\n",
       "      <td>79.45</td>\n",
       "      <td>3.666</td>\n",
       "      <td>7106.05</td>\n",
       "      <td>1.91</td>\n",
       "      <td>1.65</td>\n",
       "      <td>1549.10</td>\n",
       "      <td>3946.03</td>\n",
       "      <td>222.616433</td>\n",
       "      <td>6.565</td>\n",
       "    </tr>\n",
       "  </tbody>\n",
       "</table>\n",
       "</div>"
      ],
      "text/plain": [
       "        Store  Dept        Date  Weekly_Sales IsHoliday Type    Size  \\\n",
       "380580     40    34  2012-09-21       6243.70     False    A  155083   \n",
       "53380       6    36  2011-04-29       3131.00     False    A  202505   \n",
       "227246     24    19  2010-03-12        155.22     False    A  203819   \n",
       "18495       2    17  2012-04-20      11741.15     False    A  202307   \n",
       "20123       2     1  2012-09-28      27159.07     False    A  202307   \n",
       "\n",
       "        Temperature  Fuel_Price  MarkDown1  MarkDown2  MarkDown3  MarkDown4  \\\n",
       "380580        54.12       4.056    3688.63       7.64        NaN     693.23   \n",
       "53380         75.27       3.810        NaN        NaN        NaN        NaN   \n",
       "227246        42.31       2.938        NaN        NaN        NaN        NaN   \n",
       "18495         65.69       3.877    7311.02    2236.20      33.53     878.07   \n",
       "20123         79.45       3.666    7106.05       1.91       1.65    1549.10   \n",
       "\n",
       "        MarkDown5         CPI  Unemployment  \n",
       "380580    4870.36  138.653400         4.156  \n",
       "53380         NaN  217.184725         6.855  \n",
       "227246        NaN  131.784000         8.326  \n",
       "18495     4080.32  221.202107         6.891  \n",
       "20123     3946.03  222.616433         6.565  "
      ]
     },
     "execution_count": 7,
     "metadata": {},
     "output_type": "execute_result"
    }
   ],
   "source": [
    "test.head(5)"
   ]
  },
  {
   "cell_type": "code",
   "execution_count": 8,
   "metadata": {
    "collapsed": false,
    "deletable": true,
    "editable": true
   },
   "outputs": [
    {
     "name": "stdout",
     "output_type": "stream",
     "text": [
      "<class 'pandas.core.frame.DataFrame'>\n",
      "Int64Index: 282451 entries, 278300 to 234205\n",
      "Data columns (total 16 columns):\n",
      "Store           282451 non-null int64\n",
      "Dept            282451 non-null int64\n",
      "Date            282451 non-null object\n",
      "Weekly_Sales    282451 non-null float64\n",
      "IsHoliday       282451 non-null bool\n",
      "Type            282451 non-null object\n",
      "Size            282451 non-null int64\n",
      "Temperature     282451 non-null float64\n",
      "Fuel_Price      282451 non-null float64\n",
      "MarkDown1       100597 non-null float64\n",
      "MarkDown2       74198 non-null float64\n",
      "MarkDown3       91538 non-null float64\n",
      "MarkDown4       90125 non-null float64\n",
      "MarkDown5       101092 non-null float64\n",
      "CPI             282451 non-null float64\n",
      "Unemployment    282451 non-null float64\n",
      "dtypes: bool(1), float64(10), int64(3), object(2)\n",
      "memory usage: 34.7+ MB\n",
      "None\n",
      "*****************************************\n",
      "<class 'pandas.core.frame.DataFrame'>\n",
      "Int64Index: 139119 entries, 380580 to 302949\n",
      "Data columns (total 16 columns):\n",
      "Store           139119 non-null int64\n",
      "Dept            139119 non-null int64\n",
      "Date            139119 non-null object\n",
      "Weekly_Sales    139119 non-null float64\n",
      "IsHoliday       139119 non-null bool\n",
      "Type            139119 non-null object\n",
      "Size            139119 non-null int64\n",
      "Temperature     139119 non-null float64\n",
      "Fuel_Price      139119 non-null float64\n",
      "MarkDown1       50084 non-null float64\n",
      "MarkDown2       37050 non-null float64\n",
      "MarkDown3       45553 non-null float64\n",
      "MarkDown4       44842 non-null float64\n",
      "MarkDown5       50340 non-null float64\n",
      "CPI             139119 non-null float64\n",
      "Unemployment    139119 non-null float64\n",
      "dtypes: bool(1), float64(10), int64(3), object(2)\n",
      "memory usage: 17.1+ MB\n",
      "None\n"
     ]
    }
   ],
   "source": [
    "print( train.info())\n",
    "print (\"*****************************************\")\n",
    "print (test.info())"
   ]
  },
  {
   "cell_type": "markdown",
   "metadata": {
    "deletable": true,
    "editable": true
   },
   "source": [
    "#### Data Description"
   ]
  },
  {
   "cell_type": "markdown",
   "metadata": {
    "deletable": true,
    "editable": true
   },
   "source": [
    "##### 1. Training Data"
   ]
  },
  {
   "cell_type": "code",
   "execution_count": 9,
   "metadata": {
    "collapsed": false,
    "deletable": true,
    "editable": true
   },
   "outputs": [
    {
     "name": "stdout",
     "output_type": "stream",
     "text": [
      "['Dept', 'MarkDown3', 'Weekly_Sales', 'Unemployment', 'Size', 'MarkDown1', 'CPI', 'Store', 'MarkDown5', 'Temperature', 'Fuel_Price', 'MarkDown2', 'MarkDown4']\n",
      "['Date', 'Type']\n"
     ]
    }
   ],
   "source": [
    "numeric_var_train=[key for key in dict(train.dtypes) if dict(train.dtypes)[key] in ['float64', 'int64', 'float32', 'int32']]\n",
    "cat_var_train=[key for key in dict(train.dtypes) if dict(train.dtypes)[key] in ['object']]\n",
    "# Train Numerical Data\n",
    "train_num=train[numeric_var_train]\n",
    "\n",
    "# Train Categorical Data\n",
    "train_cat=train[cat_var_train]\n",
    "print (numeric_var_train)\n",
    "print (cat_var_train)"
   ]
  },
  {
   "cell_type": "code",
   "execution_count": 10,
   "metadata": {
    "collapsed": false,
    "deletable": true,
    "editable": true
   },
   "outputs": [
    {
     "data": {
      "text/html": [
       "<div>\n",
       "<table border=\"1\" class=\"dataframe\">\n",
       "  <thead>\n",
       "    <tr style=\"text-align: right;\">\n",
       "      <th></th>\n",
       "      <th>N</th>\n",
       "      <th>NMISS</th>\n",
       "      <th>SUM</th>\n",
       "      <th>MEAN</th>\n",
       "      <th>MEDIAN</th>\n",
       "      <th>STD</th>\n",
       "      <th>VAR</th>\n",
       "      <th>MIN</th>\n",
       "      <th>P1</th>\n",
       "      <th>P5</th>\n",
       "      <th>P10</th>\n",
       "      <th>P25</th>\n",
       "      <th>P50</th>\n",
       "      <th>P75</th>\n",
       "      <th>P90</th>\n",
       "      <th>P95</th>\n",
       "      <th>P99</th>\n",
       "      <th>MAX</th>\n",
       "    </tr>\n",
       "  </thead>\n",
       "  <tbody>\n",
       "    <tr>\n",
       "      <th>Dept</th>\n",
       "      <td>282451.0</td>\n",
       "      <td>0.0</td>\n",
       "      <td>1.249904e+07</td>\n",
       "      <td>44.252069</td>\n",
       "      <td>37.000000</td>\n",
       "      <td>30.467646</td>\n",
       "      <td>9.282775e+02</td>\n",
       "      <td>1.000</td>\n",
       "      <td>1.000000</td>\n",
       "      <td>4.000000</td>\n",
       "      <td>7.000000</td>\n",
       "      <td>18.0000</td>\n",
       "      <td>37.000000</td>\n",
       "      <td>74.000000</td>\n",
       "      <td>91.000000</td>\n",
       "      <td>95.000000</td>\n",
       "      <td>98.000000</td>\n",
       "      <td>99.000000</td>\n",
       "    </tr>\n",
       "    <tr>\n",
       "      <th>MarkDown3</th>\n",
       "      <td>91538.0</td>\n",
       "      <td>190913.0</td>\n",
       "      <td>1.313222e+08</td>\n",
       "      <td>1434.619986</td>\n",
       "      <td>24.730000</td>\n",
       "      <td>9570.293793</td>\n",
       "      <td>9.159052e+07</td>\n",
       "      <td>-29.100</td>\n",
       "      <td>0.060000</td>\n",
       "      <td>0.660000</td>\n",
       "      <td>1.660000</td>\n",
       "      <td>5.1000</td>\n",
       "      <td>24.730000</td>\n",
       "      <td>104.010000</td>\n",
       "      <td>400.090000</td>\n",
       "      <td>1065.700000</td>\n",
       "      <td>63143.290000</td>\n",
       "      <td>141630.610000</td>\n",
       "    </tr>\n",
       "    <tr>\n",
       "      <th>Weekly_Sales</th>\n",
       "      <td>282451.0</td>\n",
       "      <td>0.0</td>\n",
       "      <td>4.508562e+09</td>\n",
       "      <td>15962.279745</td>\n",
       "      <td>7587.510000</td>\n",
       "      <td>22753.954246</td>\n",
       "      <td>5.177424e+08</td>\n",
       "      <td>-4988.940</td>\n",
       "      <td>5.000000</td>\n",
       "      <td>60.005000</td>\n",
       "      <td>291.750000</td>\n",
       "      <td>2071.2150</td>\n",
       "      <td>7587.510000</td>\n",
       "      <td>20142.400000</td>\n",
       "      <td>42871.330000</td>\n",
       "      <td>61220.435000</td>\n",
       "      <td>106614.355000</td>\n",
       "      <td>693099.360000</td>\n",
       "    </tr>\n",
       "    <tr>\n",
       "      <th>Unemployment</th>\n",
       "      <td>282451.0</td>\n",
       "      <td>0.0</td>\n",
       "      <td>2.248957e+06</td>\n",
       "      <td>7.962289</td>\n",
       "      <td>7.866000</td>\n",
       "      <td>1.866761</td>\n",
       "      <td>3.484796e+00</td>\n",
       "      <td>3.879</td>\n",
       "      <td>4.156000</td>\n",
       "      <td>5.326000</td>\n",
       "      <td>5.965000</td>\n",
       "      <td>6.8910</td>\n",
       "      <td>7.866000</td>\n",
       "      <td>8.572000</td>\n",
       "      <td>9.816000</td>\n",
       "      <td>12.187000</td>\n",
       "      <td>14.180000</td>\n",
       "      <td>14.313000</td>\n",
       "    </tr>\n",
       "    <tr>\n",
       "      <th>Size</th>\n",
       "      <td>282451.0</td>\n",
       "      <td>0.0</td>\n",
       "      <td>3.864999e+10</td>\n",
       "      <td>136837.843552</td>\n",
       "      <td>140167.000000</td>\n",
       "      <td>60984.550925</td>\n",
       "      <td>3.719115e+09</td>\n",
       "      <td>34875.000</td>\n",
       "      <td>34875.000000</td>\n",
       "      <td>39690.000000</td>\n",
       "      <td>39910.000000</td>\n",
       "      <td>93638.0000</td>\n",
       "      <td>140167.000000</td>\n",
       "      <td>202505.000000</td>\n",
       "      <td>204184.000000</td>\n",
       "      <td>206302.000000</td>\n",
       "      <td>219622.000000</td>\n",
       "      <td>219622.000000</td>\n",
       "    </tr>\n",
       "    <tr>\n",
       "      <th>MarkDown1</th>\n",
       "      <td>100597.0</td>\n",
       "      <td>181854.0</td>\n",
       "      <td>7.278969e+08</td>\n",
       "      <td>7235.771013</td>\n",
       "      <td>5333.920000</td>\n",
       "      <td>8271.081420</td>\n",
       "      <td>6.841079e+07</td>\n",
       "      <td>0.270</td>\n",
       "      <td>18.000000</td>\n",
       "      <td>150.150000</td>\n",
       "      <td>377.290000</td>\n",
       "      <td>2232.0800</td>\n",
       "      <td>5333.920000</td>\n",
       "      <td>9199.630000</td>\n",
       "      <td>15282.470000</td>\n",
       "      <td>21823.530000</td>\n",
       "      <td>41524.030000</td>\n",
       "      <td>88646.760000</td>\n",
       "    </tr>\n",
       "    <tr>\n",
       "      <th>CPI</th>\n",
       "      <td>282451.0</td>\n",
       "      <td>0.0</td>\n",
       "      <td>4.834213e+07</td>\n",
       "      <td>171.152259</td>\n",
       "      <td>182.260441</td>\n",
       "      <td>39.170317</td>\n",
       "      <td>1.534314e+03</td>\n",
       "      <td>126.064</td>\n",
       "      <td>126.111903</td>\n",
       "      <td>126.496258</td>\n",
       "      <td>128.719935</td>\n",
       "      <td>131.9809</td>\n",
       "      <td>182.260441</td>\n",
       "      <td>212.416993</td>\n",
       "      <td>219.415986</td>\n",
       "      <td>221.941558</td>\n",
       "      <td>225.473509</td>\n",
       "      <td>227.232807</td>\n",
       "    </tr>\n",
       "    <tr>\n",
       "      <th>Store</th>\n",
       "      <td>282451.0</td>\n",
       "      <td>0.0</td>\n",
       "      <td>6.267269e+06</td>\n",
       "      <td>22.188872</td>\n",
       "      <td>22.000000</td>\n",
       "      <td>12.785003</td>\n",
       "      <td>1.634563e+02</td>\n",
       "      <td>1.000</td>\n",
       "      <td>1.000000</td>\n",
       "      <td>3.000000</td>\n",
       "      <td>5.000000</td>\n",
       "      <td>11.0000</td>\n",
       "      <td>22.000000</td>\n",
       "      <td>33.000000</td>\n",
       "      <td>40.000000</td>\n",
       "      <td>43.000000</td>\n",
       "      <td>45.000000</td>\n",
       "      <td>45.000000</td>\n",
       "    </tr>\n",
       "    <tr>\n",
       "      <th>MarkDown5</th>\n",
       "      <td>101092.0</td>\n",
       "      <td>181359.0</td>\n",
       "      <td>4.681598e+08</td>\n",
       "      <td>4631.027675</td>\n",
       "      <td>3359.450000</td>\n",
       "      <td>5954.989560</td>\n",
       "      <td>3.546190e+07</td>\n",
       "      <td>135.160</td>\n",
       "      <td>353.190000</td>\n",
       "      <td>719.560000</td>\n",
       "      <td>1073.060000</td>\n",
       "      <td>1878.4400</td>\n",
       "      <td>3359.450000</td>\n",
       "      <td>5563.800000</td>\n",
       "      <td>8346.740000</td>\n",
       "      <td>11311.240000</td>\n",
       "      <td>27754.230000</td>\n",
       "      <td>108519.280000</td>\n",
       "    </tr>\n",
       "    <tr>\n",
       "      <th>Temperature</th>\n",
       "      <td>282451.0</td>\n",
       "      <td>0.0</td>\n",
       "      <td>1.697926e+07</td>\n",
       "      <td>60.113987</td>\n",
       "      <td>62.110000</td>\n",
       "      <td>18.462734</td>\n",
       "      <td>3.408726e+02</td>\n",
       "      <td>-2.060</td>\n",
       "      <td>18.200000</td>\n",
       "      <td>27.260000</td>\n",
       "      <td>33.980000</td>\n",
       "      <td>46.7400</td>\n",
       "      <td>62.110000</td>\n",
       "      <td>74.290000</td>\n",
       "      <td>83.590000</td>\n",
       "      <td>87.270000</td>\n",
       "      <td>92.810000</td>\n",
       "      <td>100.140000</td>\n",
       "    </tr>\n",
       "    <tr>\n",
       "      <th>Fuel_Price</th>\n",
       "      <td>282451.0</td>\n",
       "      <td>0.0</td>\n",
       "      <td>9.490880e+05</td>\n",
       "      <td>3.360186</td>\n",
       "      <td>3.452000</td>\n",
       "      <td>0.458498</td>\n",
       "      <td>2.102200e-01</td>\n",
       "      <td>2.472</td>\n",
       "      <td>2.565000</td>\n",
       "      <td>2.653000</td>\n",
       "      <td>2.720000</td>\n",
       "      <td>2.9320</td>\n",
       "      <td>3.452000</td>\n",
       "      <td>3.737000</td>\n",
       "      <td>3.917000</td>\n",
       "      <td>4.029000</td>\n",
       "      <td>4.202000</td>\n",
       "      <td>4.468000</td>\n",
       "    </tr>\n",
       "    <tr>\n",
       "      <th>MarkDown2</th>\n",
       "      <td>74198.0</td>\n",
       "      <td>208253.0</td>\n",
       "      <td>2.472813e+08</td>\n",
       "      <td>3332.721449</td>\n",
       "      <td>191.400000</td>\n",
       "      <td>9521.970101</td>\n",
       "      <td>9.066791e+07</td>\n",
       "      <td>-265.760</td>\n",
       "      <td>-0.990000</td>\n",
       "      <td>1.980000</td>\n",
       "      <td>7.000000</td>\n",
       "      <td>40.9600</td>\n",
       "      <td>191.400000</td>\n",
       "      <td>1926.940000</td>\n",
       "      <td>8549.740000</td>\n",
       "      <td>16497.470000</td>\n",
       "      <td>50366.600000</td>\n",
       "      <td>104519.540000</td>\n",
       "    </tr>\n",
       "    <tr>\n",
       "      <th>MarkDown4</th>\n",
       "      <td>90125.0</td>\n",
       "      <td>192326.0</td>\n",
       "      <td>3.038898e+08</td>\n",
       "      <td>3371.870583</td>\n",
       "      <td>1465.540000</td>\n",
       "      <td>6272.155423</td>\n",
       "      <td>3.933993e+07</td>\n",
       "      <td>0.220</td>\n",
       "      <td>3.970000</td>\n",
       "      <td>28.760000</td>\n",
       "      <td>108.710000</td>\n",
       "      <td>501.8500</td>\n",
       "      <td>1465.540000</td>\n",
       "      <td>3578.400000</td>\n",
       "      <td>7862.710000</td>\n",
       "      <td>12645.960000</td>\n",
       "      <td>35785.260000</td>\n",
       "      <td>67474.850000</td>\n",
       "    </tr>\n",
       "  </tbody>\n",
       "</table>\n",
       "</div>"
      ],
      "text/plain": [
       "                     N     NMISS           SUM           MEAN         MEDIAN  \\\n",
       "Dept          282451.0       0.0  1.249904e+07      44.252069      37.000000   \n",
       "MarkDown3      91538.0  190913.0  1.313222e+08    1434.619986      24.730000   \n",
       "Weekly_Sales  282451.0       0.0  4.508562e+09   15962.279745    7587.510000   \n",
       "Unemployment  282451.0       0.0  2.248957e+06       7.962289       7.866000   \n",
       "Size          282451.0       0.0  3.864999e+10  136837.843552  140167.000000   \n",
       "MarkDown1     100597.0  181854.0  7.278969e+08    7235.771013    5333.920000   \n",
       "CPI           282451.0       0.0  4.834213e+07     171.152259     182.260441   \n",
       "Store         282451.0       0.0  6.267269e+06      22.188872      22.000000   \n",
       "MarkDown5     101092.0  181359.0  4.681598e+08    4631.027675    3359.450000   \n",
       "Temperature   282451.0       0.0  1.697926e+07      60.113987      62.110000   \n",
       "Fuel_Price    282451.0       0.0  9.490880e+05       3.360186       3.452000   \n",
       "MarkDown2      74198.0  208253.0  2.472813e+08    3332.721449     191.400000   \n",
       "MarkDown4      90125.0  192326.0  3.038898e+08    3371.870583    1465.540000   \n",
       "\n",
       "                       STD           VAR        MIN            P1  \\\n",
       "Dept             30.467646  9.282775e+02      1.000      1.000000   \n",
       "MarkDown3      9570.293793  9.159052e+07    -29.100      0.060000   \n",
       "Weekly_Sales  22753.954246  5.177424e+08  -4988.940      5.000000   \n",
       "Unemployment      1.866761  3.484796e+00      3.879      4.156000   \n",
       "Size          60984.550925  3.719115e+09  34875.000  34875.000000   \n",
       "MarkDown1      8271.081420  6.841079e+07      0.270     18.000000   \n",
       "CPI              39.170317  1.534314e+03    126.064    126.111903   \n",
       "Store            12.785003  1.634563e+02      1.000      1.000000   \n",
       "MarkDown5      5954.989560  3.546190e+07    135.160    353.190000   \n",
       "Temperature      18.462734  3.408726e+02     -2.060     18.200000   \n",
       "Fuel_Price        0.458498  2.102200e-01      2.472      2.565000   \n",
       "MarkDown2      9521.970101  9.066791e+07   -265.760     -0.990000   \n",
       "MarkDown4      6272.155423  3.933993e+07      0.220      3.970000   \n",
       "\n",
       "                        P5           P10         P25            P50  \\\n",
       "Dept              4.000000      7.000000     18.0000      37.000000   \n",
       "MarkDown3         0.660000      1.660000      5.1000      24.730000   \n",
       "Weekly_Sales     60.005000    291.750000   2071.2150    7587.510000   \n",
       "Unemployment      5.326000      5.965000      6.8910       7.866000   \n",
       "Size          39690.000000  39910.000000  93638.0000  140167.000000   \n",
       "MarkDown1       150.150000    377.290000   2232.0800    5333.920000   \n",
       "CPI             126.496258    128.719935    131.9809     182.260441   \n",
       "Store             3.000000      5.000000     11.0000      22.000000   \n",
       "MarkDown5       719.560000   1073.060000   1878.4400    3359.450000   \n",
       "Temperature      27.260000     33.980000     46.7400      62.110000   \n",
       "Fuel_Price        2.653000      2.720000      2.9320       3.452000   \n",
       "MarkDown2         1.980000      7.000000     40.9600     191.400000   \n",
       "MarkDown4        28.760000    108.710000    501.8500    1465.540000   \n",
       "\n",
       "                        P75            P90            P95            P99  \\\n",
       "Dept              74.000000      91.000000      95.000000      98.000000   \n",
       "MarkDown3        104.010000     400.090000    1065.700000   63143.290000   \n",
       "Weekly_Sales   20142.400000   42871.330000   61220.435000  106614.355000   \n",
       "Unemployment       8.572000       9.816000      12.187000      14.180000   \n",
       "Size          202505.000000  204184.000000  206302.000000  219622.000000   \n",
       "MarkDown1       9199.630000   15282.470000   21823.530000   41524.030000   \n",
       "CPI              212.416993     219.415986     221.941558     225.473509   \n",
       "Store             33.000000      40.000000      43.000000      45.000000   \n",
       "MarkDown5       5563.800000    8346.740000   11311.240000   27754.230000   \n",
       "Temperature       74.290000      83.590000      87.270000      92.810000   \n",
       "Fuel_Price         3.737000       3.917000       4.029000       4.202000   \n",
       "MarkDown2       1926.940000    8549.740000   16497.470000   50366.600000   \n",
       "MarkDown4       3578.400000    7862.710000   12645.960000   35785.260000   \n",
       "\n",
       "                        MAX  \n",
       "Dept              99.000000  \n",
       "MarkDown3     141630.610000  \n",
       "Weekly_Sales  693099.360000  \n",
       "Unemployment      14.313000  \n",
       "Size          219622.000000  \n",
       "MarkDown1      88646.760000  \n",
       "CPI              227.232807  \n",
       "Store             45.000000  \n",
       "MarkDown5     108519.280000  \n",
       "Temperature      100.140000  \n",
       "Fuel_Price         4.468000  \n",
       "MarkDown2     104519.540000  \n",
       "MarkDown4      67474.850000  "
      ]
     },
     "execution_count": 10,
     "metadata": {},
     "output_type": "execute_result"
    }
   ],
   "source": [
    "# Creating Data audit Report\n",
    "# Use a general function that returns multiple values    \n",
    "def var_summary(x):\n",
    "    return pd.Series([x.count(), x.isnull().sum(), x.sum(), x.mean(), x.median(),  x.std(), x.var(), x.min(), x.dropna().quantile(0.25),x.dropna().quantile(0.50),x.dropna().quantile(0.75), x.max()], \n",
    "                  index=['N', 'NMISS', 'SUM', 'MEAN','MEDIAN', 'STD', 'VAR', 'MIN', 'P1' ,'P25' ,'P50' ,'P75' ,'MAX'])\n",
    " \n",
    "num_summary=train_num.apply(lambda x: var_summary(x)).T\n",
    "#num_summary.to_excel(writer,'Numeric_variable Summary',index=True)\n",
    "num_summary"
   ]
  },
  {
   "cell_type": "code",
   "execution_count": 11,
   "metadata": {
    "collapsed": false,
    "deletable": true,
    "editable": true
   },
   "outputs": [
    {
     "data": {
      "text/html": [
       "<div>\n",
       "<table border=\"1\" class=\"dataframe\">\n",
       "  <thead>\n",
       "    <tr style=\"text-align: right;\">\n",
       "      <th></th>\n",
       "      <th>Date</th>\n",
       "      <th>Type</th>\n",
       "    </tr>\n",
       "  </thead>\n",
       "  <tbody>\n",
       "    <tr>\n",
       "      <th>N</th>\n",
       "      <td>282451</td>\n",
       "      <td>282451</td>\n",
       "    </tr>\n",
       "    <tr>\n",
       "      <th>NMISS</th>\n",
       "      <td>0</td>\n",
       "      <td>0</td>\n",
       "    </tr>\n",
       "    <tr>\n",
       "      <th>ColumnsNames</th>\n",
       "      <td>2011-12-09    2040\n",
       "2012-07-20    2036\n",
       "2011-09-...</td>\n",
       "      <td>A    144649\n",
       "B    109454\n",
       "C     28348\n",
       "Name: Type...</td>\n",
       "    </tr>\n",
       "  </tbody>\n",
       "</table>\n",
       "</div>"
      ],
      "text/plain": [
       "                                                           Date  \\\n",
       "N                                                        282451   \n",
       "NMISS                                                         0   \n",
       "ColumnsNames  2011-12-09    2040\n",
       "2012-07-20    2036\n",
       "2011-09-...   \n",
       "\n",
       "                                                           Type  \n",
       "N                                                        282451  \n",
       "NMISS                                                         0  \n",
       "ColumnsNames  A    144649\n",
       "B    109454\n",
       "C     28348\n",
       "Name: Type...  "
      ]
     },
     "execution_count": 11,
     "metadata": {},
     "output_type": "execute_result"
    }
   ],
   "source": [
    "def cat_summary(x):\n",
    "    return pd.Series([x.count(), x.isnull().sum(), x.value_counts()], \n",
    "                  index=['N', 'NMISS', 'ColumnsNames'])\n",
    "\n",
    "cat_summary=train_cat.apply(lambda x: cat_summary(x))\n",
    "cat_summary"
   ]
  },
  {
   "cell_type": "markdown",
   "metadata": {
    "deletable": true,
    "editable": true
   },
   "source": [
    "##### 2. Testing Data"
   ]
  },
  {
   "cell_type": "code",
   "execution_count": 12,
   "metadata": {
    "collapsed": false,
    "deletable": true,
    "editable": true
   },
   "outputs": [
    {
     "name": "stdout",
     "output_type": "stream",
     "text": [
      "['Dept', 'MarkDown3', 'Weekly_Sales', 'Unemployment', 'Size', 'MarkDown1', 'CPI', 'Store', 'MarkDown5', 'Temperature', 'Fuel_Price', 'MarkDown2', 'MarkDown4']\n",
      "['Date', 'Type']\n"
     ]
    }
   ],
   "source": [
    "numeric_var_test=[key for key in dict(test.dtypes) if dict(test.dtypes)[key] in ['float64', 'int64', 'float32', 'int32']]\n",
    "cat_var_test=[key for key in dict(test.dtypes) if dict(test.dtypes)[key] in ['object']]\n",
    "# Train Numerical Data\n",
    "test_num=test[numeric_var_test]\n",
    "\n",
    "# Train Categorical Data\n",
    "test_cat=test[cat_var_test]\n",
    "print (numeric_var_test)\n",
    "print (cat_var_test)"
   ]
  },
  {
   "cell_type": "code",
   "execution_count": 13,
   "metadata": {
    "collapsed": false,
    "deletable": true,
    "editable": true
   },
   "outputs": [
    {
     "data": {
      "text/html": [
       "<div>\n",
       "<table border=\"1\" class=\"dataframe\">\n",
       "  <thead>\n",
       "    <tr style=\"text-align: right;\">\n",
       "      <th></th>\n",
       "      <th>N</th>\n",
       "      <th>NMISS</th>\n",
       "      <th>SUM</th>\n",
       "      <th>MEAN</th>\n",
       "      <th>MEDIAN</th>\n",
       "      <th>STD</th>\n",
       "      <th>VAR</th>\n",
       "      <th>MIN</th>\n",
       "      <th>P1</th>\n",
       "      <th>P5</th>\n",
       "      <th>P10</th>\n",
       "      <th>P25</th>\n",
       "      <th>P50</th>\n",
       "      <th>P75</th>\n",
       "      <th>P90</th>\n",
       "      <th>P95</th>\n",
       "      <th>P99</th>\n",
       "      <th>MAX</th>\n",
       "    </tr>\n",
       "  </thead>\n",
       "  <tbody>\n",
       "    <tr>\n",
       "      <th>Dept</th>\n",
       "      <td>139119.0</td>\n",
       "      <td>0.0</td>\n",
       "      <td>6.159781e+06</td>\n",
       "      <td>44.277065</td>\n",
       "      <td>37.000</td>\n",
       "      <td>30.541652</td>\n",
       "      <td>9.327925e+02</td>\n",
       "      <td>1.000</td>\n",
       "      <td>1.000</td>\n",
       "      <td>4.000</td>\n",
       "      <td>7.000</td>\n",
       "      <td>18.000</td>\n",
       "      <td>37.000</td>\n",
       "      <td>74.000</td>\n",
       "      <td>92.000</td>\n",
       "      <td>95.000</td>\n",
       "      <td>98.000</td>\n",
       "      <td>99.000</td>\n",
       "    </tr>\n",
       "    <tr>\n",
       "      <th>MarkDown3</th>\n",
       "      <td>45553.0</td>\n",
       "      <td>93566.0</td>\n",
       "      <td>6.600947e+07</td>\n",
       "      <td>1449.069715</td>\n",
       "      <td>24.230</td>\n",
       "      <td>9728.380365</td>\n",
       "      <td>9.464138e+07</td>\n",
       "      <td>-29.100</td>\n",
       "      <td>0.090</td>\n",
       "      <td>0.650</td>\n",
       "      <td>1.650</td>\n",
       "      <td>5.070</td>\n",
       "      <td>24.230</td>\n",
       "      <td>103.340</td>\n",
       "      <td>399.770</td>\n",
       "      <td>1049.300</td>\n",
       "      <td>62095.850</td>\n",
       "      <td>141630.610</td>\n",
       "    </tr>\n",
       "    <tr>\n",
       "      <th>Weekly_Sales</th>\n",
       "      <td>139119.0</td>\n",
       "      <td>0.0</td>\n",
       "      <td>2.228657e+09</td>\n",
       "      <td>16019.789611</td>\n",
       "      <td>7670.210</td>\n",
       "      <td>22624.130739</td>\n",
       "      <td>5.118513e+08</td>\n",
       "      <td>-1098.000</td>\n",
       "      <td>5.000</td>\n",
       "      <td>59.009</td>\n",
       "      <td>290.400</td>\n",
       "      <td>2100.100</td>\n",
       "      <td>7670.210</td>\n",
       "      <td>20322.125</td>\n",
       "      <td>42789.904</td>\n",
       "      <td>61159.680</td>\n",
       "      <td>106078.237</td>\n",
       "      <td>420586.570</td>\n",
       "    </tr>\n",
       "    <tr>\n",
       "      <th>Unemployment</th>\n",
       "      <td>139119.0</td>\n",
       "      <td>0.0</td>\n",
       "      <td>1.106862e+06</td>\n",
       "      <td>7.956227</td>\n",
       "      <td>7.866</td>\n",
       "      <td>1.856242</td>\n",
       "      <td>3.445633e+00</td>\n",
       "      <td>3.879</td>\n",
       "      <td>4.156</td>\n",
       "      <td>5.326</td>\n",
       "      <td>5.965</td>\n",
       "      <td>6.891</td>\n",
       "      <td>7.866</td>\n",
       "      <td>8.567</td>\n",
       "      <td>9.816</td>\n",
       "      <td>12.187</td>\n",
       "      <td>14.180</td>\n",
       "      <td>14.313</td>\n",
       "    </tr>\n",
       "    <tr>\n",
       "      <th>Size</th>\n",
       "      <td>139119.0</td>\n",
       "      <td>0.0</td>\n",
       "      <td>1.899040e+10</td>\n",
       "      <td>136504.731122</td>\n",
       "      <td>140167.000</td>\n",
       "      <td>60972.136685</td>\n",
       "      <td>3.717601e+09</td>\n",
       "      <td>34875.000</td>\n",
       "      <td>34875.000</td>\n",
       "      <td>39690.000</td>\n",
       "      <td>39910.000</td>\n",
       "      <td>93638.000</td>\n",
       "      <td>140167.000</td>\n",
       "      <td>202505.000</td>\n",
       "      <td>204184.000</td>\n",
       "      <td>206302.000</td>\n",
       "      <td>219622.000</td>\n",
       "      <td>219622.000</td>\n",
       "    </tr>\n",
       "  </tbody>\n",
       "</table>\n",
       "</div>"
      ],
      "text/plain": [
       "                     N    NMISS           SUM           MEAN      MEDIAN  \\\n",
       "Dept          139119.0      0.0  6.159781e+06      44.277065      37.000   \n",
       "MarkDown3      45553.0  93566.0  6.600947e+07    1449.069715      24.230   \n",
       "Weekly_Sales  139119.0      0.0  2.228657e+09   16019.789611    7670.210   \n",
       "Unemployment  139119.0      0.0  1.106862e+06       7.956227       7.866   \n",
       "Size          139119.0      0.0  1.899040e+10  136504.731122  140167.000   \n",
       "\n",
       "                       STD           VAR        MIN         P1         P5  \\\n",
       "Dept             30.541652  9.327925e+02      1.000      1.000      4.000   \n",
       "MarkDown3      9728.380365  9.464138e+07    -29.100      0.090      0.650   \n",
       "Weekly_Sales  22624.130739  5.118513e+08  -1098.000      5.000     59.009   \n",
       "Unemployment      1.856242  3.445633e+00      3.879      4.156      5.326   \n",
       "Size          60972.136685  3.717601e+09  34875.000  34875.000  39690.000   \n",
       "\n",
       "                    P10        P25         P50         P75         P90  \\\n",
       "Dept              7.000     18.000      37.000      74.000      92.000   \n",
       "MarkDown3         1.650      5.070      24.230     103.340     399.770   \n",
       "Weekly_Sales    290.400   2100.100    7670.210   20322.125   42789.904   \n",
       "Unemployment      5.965      6.891       7.866       8.567       9.816   \n",
       "Size          39910.000  93638.000  140167.000  202505.000  204184.000   \n",
       "\n",
       "                     P95         P99         MAX  \n",
       "Dept              95.000      98.000      99.000  \n",
       "MarkDown3       1049.300   62095.850  141630.610  \n",
       "Weekly_Sales   61159.680  106078.237  420586.570  \n",
       "Unemployment      12.187      14.180      14.313  \n",
       "Size          206302.000  219622.000  219622.000  "
      ]
     },
     "execution_count": 13,
     "metadata": {},
     "output_type": "execute_result"
    }
   ],
   "source": [
    "num_summary=test_num.apply(lambda x: var_summary(x)).T\n",
    "num_summary.head()"
   ]
  },
  {
   "cell_type": "code",
   "execution_count": 14,
   "metadata": {
    "collapsed": false,
    "deletable": true,
    "editable": true
   },
   "outputs": [
    {
     "data": {
      "text/html": [
       "<div>\n",
       "<table border=\"1\" class=\"dataframe\">\n",
       "  <thead>\n",
       "    <tr style=\"text-align: right;\">\n",
       "      <th></th>\n",
       "      <th>Date</th>\n",
       "      <th>Type</th>\n",
       "    </tr>\n",
       "  </thead>\n",
       "  <tbody>\n",
       "    <tr>\n",
       "      <th>N</th>\n",
       "      <td>139119</td>\n",
       "      <td>139119</td>\n",
       "    </tr>\n",
       "    <tr>\n",
       "      <th>NMISS</th>\n",
       "      <td>0</td>\n",
       "      <td>0</td>\n",
       "    </tr>\n",
       "    <tr>\n",
       "      <th>ColumnsNames</th>\n",
       "      <td>2012-03-09    1041\n",
       "2012-02-17    1033\n",
       "2011-07-...</td>\n",
       "      <td>A    70829\n",
       "B    54041\n",
       "C    14249\n",
       "Name: Type, d...</td>\n",
       "    </tr>\n",
       "  </tbody>\n",
       "</table>\n",
       "</div>"
      ],
      "text/plain": [
       "                                                           Date  \\\n",
       "N                                                        139119   \n",
       "NMISS                                                         0   \n",
       "ColumnsNames  2012-03-09    1041\n",
       "2012-02-17    1033\n",
       "2011-07-...   \n",
       "\n",
       "                                                           Type  \n",
       "N                                                        139119  \n",
       "NMISS                                                         0  \n",
       "ColumnsNames  A    70829\n",
       "B    54041\n",
       "C    14249\n",
       "Name: Type, d...  "
      ]
     },
     "execution_count": 14,
     "metadata": {},
     "output_type": "execute_result"
    }
   ],
   "source": [
    "def cat_summary(x):\n",
    "    return pd.Series([x.count(), x.isnull().sum(), x.value_counts()], \n",
    "                  index=['N', 'NMISS', 'ColumnsNames'])\n",
    "\n",
    "cat_summary=test_cat.apply(lambda x: cat_summary(x))\n",
    "cat_summary"
   ]
  },
  {
   "cell_type": "markdown",
   "metadata": {
    "deletable": true,
    "editable": true
   },
   "source": [
    "###### Correlation"
   ]
  },
  {
   "cell_type": "code",
   "execution_count": 15,
   "metadata": {
    "collapsed": false,
    "deletable": true,
    "editable": true
   },
   "outputs": [
    {
     "data": {
      "text/html": [
       "<div>\n",
       "<table border=\"1\" class=\"dataframe\">\n",
       "  <thead>\n",
       "    <tr style=\"text-align: right;\">\n",
       "      <th></th>\n",
       "      <th>Store</th>\n",
       "      <th>Dept</th>\n",
       "      <th>Weekly_Sales</th>\n",
       "      <th>IsHoliday</th>\n",
       "      <th>Size</th>\n",
       "      <th>Temperature</th>\n",
       "      <th>Fuel_Price</th>\n",
       "      <th>MarkDown1</th>\n",
       "      <th>MarkDown2</th>\n",
       "      <th>MarkDown3</th>\n",
       "      <th>MarkDown4</th>\n",
       "      <th>MarkDown5</th>\n",
       "      <th>CPI</th>\n",
       "      <th>Unemployment</th>\n",
       "    </tr>\n",
       "  </thead>\n",
       "  <tbody>\n",
       "    <tr>\n",
       "      <th>Store</th>\n",
       "      <td>1.000000</td>\n",
       "      <td>0.023763</td>\n",
       "      <td>-0.085588</td>\n",
       "      <td>0.000254</td>\n",
       "      <td>-0.182541</td>\n",
       "      <td>-0.049568</td>\n",
       "      <td>0.065346</td>\n",
       "      <td>-0.118268</td>\n",
       "      <td>-0.031903</td>\n",
       "      <td>-0.033373</td>\n",
       "      <td>-0.008558</td>\n",
       "      <td>-0.025730</td>\n",
       "      <td>-0.210557</td>\n",
       "      <td>0.208333</td>\n",
       "    </tr>\n",
       "    <tr>\n",
       "      <th>Dept</th>\n",
       "      <td>0.023763</td>\n",
       "      <td>1.000000</td>\n",
       "      <td>0.149094</td>\n",
       "      <td>0.001104</td>\n",
       "      <td>-0.002497</td>\n",
       "      <td>0.005623</td>\n",
       "      <td>0.004653</td>\n",
       "      <td>-0.004762</td>\n",
       "      <td>-0.003239</td>\n",
       "      <td>0.002054</td>\n",
       "      <td>0.001264</td>\n",
       "      <td>-0.003237</td>\n",
       "      <td>-0.006000</td>\n",
       "      <td>0.007008</td>\n",
       "    </tr>\n",
       "    <tr>\n",
       "      <th>Weekly_Sales</th>\n",
       "      <td>-0.085588</td>\n",
       "      <td>0.149094</td>\n",
       "      <td>1.000000</td>\n",
       "      <td>0.012568</td>\n",
       "      <td>0.243854</td>\n",
       "      <td>-0.002847</td>\n",
       "      <td>0.000602</td>\n",
       "      <td>0.083725</td>\n",
       "      <td>0.021070</td>\n",
       "      <td>0.058053</td>\n",
       "      <td>0.044691</td>\n",
       "      <td>0.089994</td>\n",
       "      <td>-0.020345</td>\n",
       "      <td>-0.025535</td>\n",
       "    </tr>\n",
       "    <tr>\n",
       "      <th>IsHoliday</th>\n",
       "      <td>0.000254</td>\n",
       "      <td>0.001104</td>\n",
       "      <td>0.012568</td>\n",
       "      <td>1.000000</td>\n",
       "      <td>-0.001324</td>\n",
       "      <td>-0.155507</td>\n",
       "      <td>-0.076816</td>\n",
       "      <td>-0.036192</td>\n",
       "      <td>0.336968</td>\n",
       "      <td>0.427584</td>\n",
       "      <td>-0.001082</td>\n",
       "      <td>-0.054551</td>\n",
       "      <td>-0.002625</td>\n",
       "      <td>0.009935</td>\n",
       "    </tr>\n",
       "    <tr>\n",
       "      <th>Size</th>\n",
       "      <td>-0.182541</td>\n",
       "      <td>-0.002497</td>\n",
       "      <td>0.243854</td>\n",
       "      <td>-0.001324</td>\n",
       "      <td>1.000000</td>\n",
       "      <td>-0.057323</td>\n",
       "      <td>0.004004</td>\n",
       "      <td>0.345783</td>\n",
       "      <td>0.105766</td>\n",
       "      <td>0.050833</td>\n",
       "      <td>0.168453</td>\n",
       "      <td>0.304870</td>\n",
       "      <td>-0.003546</td>\n",
       "      <td>-0.068159</td>\n",
       "    </tr>\n",
       "  </tbody>\n",
       "</table>\n",
       "</div>"
      ],
      "text/plain": [
       "                 Store      Dept  Weekly_Sales  IsHoliday      Size  \\\n",
       "Store         1.000000  0.023763     -0.085588   0.000254 -0.182541   \n",
       "Dept          0.023763  1.000000      0.149094   0.001104 -0.002497   \n",
       "Weekly_Sales -0.085588  0.149094      1.000000   0.012568  0.243854   \n",
       "IsHoliday     0.000254  0.001104      0.012568   1.000000 -0.001324   \n",
       "Size         -0.182541 -0.002497      0.243854  -0.001324  1.000000   \n",
       "\n",
       "              Temperature  Fuel_Price  MarkDown1  MarkDown2  MarkDown3  \\\n",
       "Store           -0.049568    0.065346  -0.118268  -0.031903  -0.033373   \n",
       "Dept             0.005623    0.004653  -0.004762  -0.003239   0.002054   \n",
       "Weekly_Sales    -0.002847    0.000602   0.083725   0.021070   0.058053   \n",
       "IsHoliday       -0.155507   -0.076816  -0.036192   0.336968   0.427584   \n",
       "Size            -0.057323    0.004004   0.345783   0.105766   0.050833   \n",
       "\n",
       "              MarkDown4  MarkDown5       CPI  Unemployment  \n",
       "Store         -0.008558  -0.025730 -0.210557      0.208333  \n",
       "Dept           0.001264  -0.003237 -0.006000      0.007008  \n",
       "Weekly_Sales   0.044691   0.089994 -0.020345     -0.025535  \n",
       "IsHoliday     -0.001082  -0.054551 -0.002625      0.009935  \n",
       "Size           0.168453   0.304870 -0.003546     -0.068159  "
      ]
     },
     "execution_count": 15,
     "metadata": {},
     "output_type": "execute_result"
    }
   ],
   "source": [
    "train_corr=pd.DataFrame(train.corr())\n",
    "train_corr.head()"
   ]
  },
  {
   "cell_type": "code",
   "execution_count": 16,
   "metadata": {
    "collapsed": false,
    "deletable": true,
    "editable": true
   },
   "outputs": [
    {
     "data": {
      "text/html": [
       "<div>\n",
       "<table border=\"1\" class=\"dataframe\">\n",
       "  <thead>\n",
       "    <tr style=\"text-align: right;\">\n",
       "      <th></th>\n",
       "      <th>Store</th>\n",
       "      <th>Dept</th>\n",
       "      <th>Weekly_Sales</th>\n",
       "      <th>IsHoliday</th>\n",
       "      <th>Size</th>\n",
       "      <th>Temperature</th>\n",
       "      <th>Fuel_Price</th>\n",
       "      <th>MarkDown1</th>\n",
       "      <th>MarkDown2</th>\n",
       "      <th>MarkDown3</th>\n",
       "      <th>MarkDown4</th>\n",
       "      <th>MarkDown5</th>\n",
       "      <th>CPI</th>\n",
       "      <th>Unemployment</th>\n",
       "    </tr>\n",
       "  </thead>\n",
       "  <tbody>\n",
       "    <tr>\n",
       "      <th>Store</th>\n",
       "      <td>1.000000</td>\n",
       "      <td>0.024490</td>\n",
       "      <td>-0.084399</td>\n",
       "      <td>-0.002179</td>\n",
       "      <td>-0.183564</td>\n",
       "      <td>-0.051167</td>\n",
       "      <td>0.065168</td>\n",
       "      <td>-0.122231</td>\n",
       "      <td>-0.041835</td>\n",
       "      <td>-0.027959</td>\n",
       "      <td>-0.012706</td>\n",
       "      <td>-0.028447</td>\n",
       "      <td>-0.212174</td>\n",
       "      <td>0.209008</td>\n",
       "    </tr>\n",
       "    <tr>\n",
       "      <th>Dept</th>\n",
       "      <td>0.024490</td>\n",
       "      <td>1.000000</td>\n",
       "      <td>0.145872</td>\n",
       "      <td>0.000535</td>\n",
       "      <td>-0.003915</td>\n",
       "      <td>0.002031</td>\n",
       "      <td>0.001380</td>\n",
       "      <td>0.002261</td>\n",
       "      <td>0.007454</td>\n",
       "      <td>0.001262</td>\n",
       "      <td>0.010263</td>\n",
       "      <td>0.006794</td>\n",
       "      <td>-0.010475</td>\n",
       "      <td>0.009526</td>\n",
       "    </tr>\n",
       "    <tr>\n",
       "      <th>Weekly_Sales</th>\n",
       "      <td>-0.084399</td>\n",
       "      <td>0.145872</td>\n",
       "      <td>1.000000</td>\n",
       "      <td>0.013205</td>\n",
       "      <td>0.243790</td>\n",
       "      <td>-0.001211</td>\n",
       "      <td>-0.001604</td>\n",
       "      <td>0.088347</td>\n",
       "      <td>0.030421</td>\n",
       "      <td>0.065076</td>\n",
       "      <td>0.046878</td>\n",
       "      <td>0.091120</td>\n",
       "      <td>-0.022106</td>\n",
       "      <td>-0.026533</td>\n",
       "    </tr>\n",
       "    <tr>\n",
       "      <th>IsHoliday</th>\n",
       "      <td>-0.002179</td>\n",
       "      <td>0.000535</td>\n",
       "      <td>0.013205</td>\n",
       "      <td>1.000000</td>\n",
       "      <td>0.004496</td>\n",
       "      <td>-0.156864</td>\n",
       "      <td>-0.081263</td>\n",
       "      <td>-0.034363</td>\n",
       "      <td>0.330453</td>\n",
       "      <td>0.428784</td>\n",
       "      <td>0.000481</td>\n",
       "      <td>-0.052051</td>\n",
       "      <td>-0.000541</td>\n",
       "      <td>0.011529</td>\n",
       "    </tr>\n",
       "    <tr>\n",
       "      <th>Size</th>\n",
       "      <td>-0.183564</td>\n",
       "      <td>-0.003915</td>\n",
       "      <td>0.243790</td>\n",
       "      <td>0.004496</td>\n",
       "      <td>1.000000</td>\n",
       "      <td>-0.060343</td>\n",
       "      <td>0.002076</td>\n",
       "      <td>0.345464</td>\n",
       "      <td>0.115063</td>\n",
       "      <td>0.045123</td>\n",
       "      <td>0.167695</td>\n",
       "      <td>0.303987</td>\n",
       "      <td>-0.002830</td>\n",
       "      <td>-0.068414</td>\n",
       "    </tr>\n",
       "  </tbody>\n",
       "</table>\n",
       "</div>"
      ],
      "text/plain": [
       "                 Store      Dept  Weekly_Sales  IsHoliday      Size  \\\n",
       "Store         1.000000  0.024490     -0.084399  -0.002179 -0.183564   \n",
       "Dept          0.024490  1.000000      0.145872   0.000535 -0.003915   \n",
       "Weekly_Sales -0.084399  0.145872      1.000000   0.013205  0.243790   \n",
       "IsHoliday    -0.002179  0.000535      0.013205   1.000000  0.004496   \n",
       "Size         -0.183564 -0.003915      0.243790   0.004496  1.000000   \n",
       "\n",
       "              Temperature  Fuel_Price  MarkDown1  MarkDown2  MarkDown3  \\\n",
       "Store           -0.051167    0.065168  -0.122231  -0.041835  -0.027959   \n",
       "Dept             0.002031    0.001380   0.002261   0.007454   0.001262   \n",
       "Weekly_Sales    -0.001211   -0.001604   0.088347   0.030421   0.065076   \n",
       "IsHoliday       -0.156864   -0.081263  -0.034363   0.330453   0.428784   \n",
       "Size            -0.060343    0.002076   0.345464   0.115063   0.045123   \n",
       "\n",
       "              MarkDown4  MarkDown5       CPI  Unemployment  \n",
       "Store         -0.012706  -0.028447 -0.212174      0.209008  \n",
       "Dept           0.010263   0.006794 -0.010475      0.009526  \n",
       "Weekly_Sales   0.046878   0.091120 -0.022106     -0.026533  \n",
       "IsHoliday      0.000481  -0.052051 -0.000541      0.011529  \n",
       "Size           0.167695   0.303987 -0.002830     -0.068414  "
      ]
     },
     "execution_count": 16,
     "metadata": {},
     "output_type": "execute_result"
    }
   ],
   "source": [
    "test_corr=pd.DataFrame(test.corr())\n",
    "test_corr.head()"
   ]
  },
  {
   "cell_type": "code",
   "execution_count": 17,
   "metadata": {
    "collapsed": false,
    "deletable": true,
    "editable": true
   },
   "outputs": [
    {
     "data": {
      "image/png": "[encoded data removed]",
      "text/plain": [
       "<matplotlib.figure.Figure at 0x242957af668>"
      ]
     },
     "metadata": {},
     "output_type": "display_data"
    }
   ],
   "source": [
    "# visualize correlation matrix in Seaborn using a heatmap\n",
    "sns.heatmap(train.corr())\n",
    "plt.show()"
   ]
  },
  {
   "cell_type": "markdown",
   "metadata": {
    "deletable": true,
    "editable": true
   },
   "source": [
    "<big> -Markdowns are Highly Correlated."
   ]
  },
  {
   "cell_type": "code",
   "execution_count": 18,
   "metadata": {
    "collapsed": false,
    "deletable": true,
    "editable": true
   },
   "outputs": [
    {
     "data": {
      "image/png": "[encoded data removed]",
      "text/plain": [
       "<matplotlib.figure.Figure at 0x242a7a4e6a0>"
      ]
     },
     "metadata": {},
     "output_type": "display_data"
    }
   ],
   "source": [
    "# visualize correlation matrix in Seaborn using a heatmap\n",
    "sns.heatmap(test.corr())\n",
    "plt.show()"
   ]
  },
  {
   "cell_type": "markdown",
   "metadata": {
    "deletable": true,
    "editable": true
   },
   "source": [
    "<big> -Markdown 4 is  Highly Correlated to Markdown 1"
   ]
  },
  {
   "cell_type": "markdown",
   "metadata": {
    "deletable": true,
    "editable": true
   },
   "source": [
    "___"
   ]
  },
  {
   "cell_type": "markdown",
   "metadata": {
    "deletable": true,
    "editable": true
   },
   "source": [
    "### Data Exploratory Analysis"
   ]
  },
  {
   "cell_type": "code",
   "execution_count": 19,
   "metadata": {
    "collapsed": false,
    "deletable": true,
    "editable": true
   },
   "outputs": [
    {
     "data": {
      "image/png": "[encoded data removed]",
      "text/plain": [
       "<matplotlib.figure.Figure at 0x242a3fdf2b0>"
      ]
     },
     "metadata": {},
     "output_type": "display_data"
    }
   ],
   "source": [
    "train['Store'].value_counts(normalize=True).plot(kind = 'bar',fig=(4,5))\n",
    "plt.show()"
   ]
  },
  {
   "cell_type": "markdown",
   "metadata": {
    "deletable": true,
    "editable": true
   },
   "source": [
    "<big> -The above graph shows that There are more number of Store 13 and very less number of Store 36"
   ]
  },
  {
   "cell_type": "code",
   "execution_count": 20,
   "metadata": {
    "collapsed": false,
    "deletable": true,
    "editable": true
   },
   "outputs": [
    {
     "data": {
      "image/png": "[encoded data removed]",
      "text/plain": [
       "<matplotlib.figure.Figure at 0x242a37bb780>"
      ]
     },
     "metadata": {},
     "output_type": "display_data"
    }
   ],
   "source": [
    "sns.distplot(train.Weekly_Sales)\n",
    "plt.show()"
   ]
  },
  {
   "cell_type": "markdown",
   "metadata": {
    "deletable": true,
    "editable": true
   },
   "source": [
    "###### Sales vs Type"
   ]
  },
  {
   "cell_type": "code",
   "execution_count": 21,
   "metadata": {
    "collapsed": false,
    "deletable": true,
    "editable": true
   },
   "outputs": [
    {
     "data": {
      "image/png": "[encoded data removed]",
      "text/plain": [
       "<matplotlib.figure.Figure at 0x24297c859b0>"
      ]
     },
     "metadata": {},
     "output_type": "display_data"
    }
   ],
   "source": [
    "#tips = sns.load_dataset('train')\n",
    "sns.barplot(x=train[\"Weekly_Sales\"],y=train[\"Type\"])\n",
    "plt.show()"
   ]
  },
  {
   "cell_type": "markdown",
   "metadata": {
    "deletable": true,
    "editable": true
   },
   "source": [
    "<big> From this plot, we notice that 'type C' stores have fewer sales and 'type A' stores have more sales in general."
   ]
  },
  {
   "cell_type": "markdown",
   "metadata": {
    "deletable": true,
    "editable": true
   },
   "source": [
    "#### Missing Value Treatment"
   ]
  },
  {
   "cell_type": "code",
   "execution_count": 22,
   "metadata": {
    "collapsed": false,
    "deletable": true,
    "editable": true
   },
   "outputs": [
    {
     "name": "stdout",
     "output_type": "stream",
     "text": [
      "Store                0\n",
      "Dept                 0\n",
      "Date                 0\n",
      "Weekly_Sales         0\n",
      "IsHoliday            0\n",
      "Type                 0\n",
      "Size                 0\n",
      "Temperature          0\n",
      "Fuel_Price           0\n",
      "MarkDown1       181854\n",
      "MarkDown2       208253\n",
      "MarkDown3       190913\n",
      "MarkDown4       192326\n",
      "MarkDown5       181359\n",
      "CPI                  0\n",
      "Unemployment         0\n",
      "dtype: int64\n",
      "******************************\n",
      "Store                0\n",
      "Dept                 0\n",
      "Date                 0\n",
      "Weekly_Sales         0\n",
      "IsHoliday            0\n",
      "Type                 0\n",
      "Size                 0\n",
      "Temperature          0\n",
      "Fuel_Price           0\n",
      "MarkDown1        89035\n",
      "MarkDown2       102069\n",
      "MarkDown3        93566\n",
      "MarkDown4        94277\n",
      "MarkDown5        88779\n",
      "CPI                  0\n",
      "Unemployment         0\n",
      "dtype: int64\n"
     ]
    }
   ],
   "source": [
    "print(train.isnull().sum())\n",
    "print (\"*\"*30)\n",
    "print (test.isnull().sum())"
   ]
  },
  {
   "cell_type": "markdown",
   "metadata": {
    "deletable": true,
    "editable": true
   },
   "source": [
    "    Imputing it with its mean"
   ]
  },
  {
   "cell_type": "code",
   "execution_count": 23,
   "metadata": {
    "collapsed": false,
    "deletable": true,
    "editable": true
   },
   "outputs": [
    {
     "name": "stderr",
     "output_type": "stream",
     "text": [
      "C:\\Users\\samee\\AppData\\Local\\Enthought\\Canopy\\edm\\envs\\User\\lib\\site-packages\\ipykernel\\__main__.py:1: SettingWithCopyWarning: \n",
      "A value is trying to be set on a copy of a slice from a DataFrame.\n",
      "Try using .loc[row_indexer,col_indexer] = value instead\n",
      "\n",
      "See the caveats in the documentation: http://pandas.pydata.org/pandas-docs/stable/indexing.html#indexing-view-versus-copy\n",
      "  if __name__ == '__main__':\n",
      "C:\\Users\\samee\\AppData\\Local\\Enthought\\Canopy\\edm\\envs\\User\\lib\\site-packages\\ipykernel\\__main__.py:2: SettingWithCopyWarning: \n",
      "A value is trying to be set on a copy of a slice from a DataFrame.\n",
      "Try using .loc[row_indexer,col_indexer] = value instead\n",
      "\n",
      "See the caveats in the documentation: http://pandas.pydata.org/pandas-docs/stable/indexing.html#indexing-view-versus-copy\n",
      "  from ipykernel import kernelapp as app\n"
     ]
    }
   ],
   "source": [
    "test['CPI']=test.groupby(['Dept'])['CPI'].transform(lambda x: x.fillna(x.mean()))\n",
    "test['Unemployment']=test.groupby(['Dept'])['Unemployment'].transform(lambda x: x.fillna(x.mean()))"
   ]
  },
  {
   "cell_type": "markdown",
   "metadata": {
    "deletable": true,
    "editable": true
   },
   "source": [
    "    Other Missing Value Treatment like Markdown\n",
    "    Imputing it with Zero(No Markdown)"
   ]
  },
  {
   "cell_type": "code",
   "execution_count": 24,
   "metadata": {
    "collapsed": true,
    "deletable": true,
    "editable": true
   },
   "outputs": [],
   "source": [
    "train=train.fillna(0)\n",
    "test=test.fillna(0)"
   ]
  },
  {
   "cell_type": "markdown",
   "metadata": {
    "deletable": true,
    "editable": true
   },
   "source": [
    "<big> We can probably safely fill all missing values with zero. For the markdowns this means that there was no markdown. "
   ]
  },
  {
   "cell_type": "code",
   "execution_count": 25,
   "metadata": {
    "collapsed": false,
    "deletable": true,
    "editable": true
   },
   "outputs": [
    {
     "name": "stdout",
     "output_type": "stream",
     "text": [
      "Store           0\n",
      "Dept            0\n",
      "Date            0\n",
      "Weekly_Sales    0\n",
      "IsHoliday       0\n",
      "Type            0\n",
      "Size            0\n",
      "Temperature     0\n",
      "Fuel_Price      0\n",
      "MarkDown1       0\n",
      "MarkDown2       0\n",
      "MarkDown3       0\n",
      "MarkDown4       0\n",
      "MarkDown5       0\n",
      "CPI             0\n",
      "Unemployment    0\n",
      "dtype: int64\n",
      "******************************\n",
      "Store           0\n",
      "Dept            0\n",
      "Date            0\n",
      "Weekly_Sales    0\n",
      "IsHoliday       0\n",
      "Type            0\n",
      "Size            0\n",
      "Temperature     0\n",
      "Fuel_Price      0\n",
      "MarkDown1       0\n",
      "MarkDown2       0\n",
      "MarkDown3       0\n",
      "MarkDown4       0\n",
      "MarkDown5       0\n",
      "CPI             0\n",
      "Unemployment    0\n",
      "dtype: int64\n"
     ]
    }
   ],
   "source": [
    "print (train.isnull().sum())\n",
    "print (\"*\"*30)\n",
    "print (test.isnull().sum())"
   ]
  },
  {
   "cell_type": "markdown",
   "metadata": {
    "deletable": true,
    "editable": true
   },
   "source": [
    "###### Outlier Treatment"
   ]
  },
  {
   "cell_type": "code",
   "execution_count": 26,
   "metadata": {
    "collapsed": true,
    "deletable": true,
    "editable": true
   },
   "outputs": [],
   "source": [
    "train.Weekly_Sales=np.where(train.Weekly_Sales>100000, 100000,train.Weekly_Sales)"
   ]
  },
  {
   "cell_type": "code",
   "execution_count": 27,
   "metadata": {
    "collapsed": false,
    "deletable": true,
    "editable": true
   },
   "outputs": [
    {
     "data": {
      "image/png": "[encoded data removed]",
      "text/plain": [
       "<matplotlib.figure.Figure at 0x2428f6dad68>"
      ]
     },
     "metadata": {},
     "output_type": "display_data"
    }
   ],
   "source": [
    "train.Weekly_Sales.plot.hist(bins=25)\n",
    "plt.show()"
   ]
  },
  {
   "cell_type": "markdown",
   "metadata": {
    "deletable": true,
    "editable": true
   },
   "source": [
    "_______________"
   ]
  },
  {
   "cell_type": "markdown",
   "metadata": {
    "deletable": true,
    "editable": true
   },
   "source": [
    "### Feature Extraction\n",
    "In this section, we select the appropriate features to train our classifier. Here, we create new features based on existing features. We also convert categorical features into numeric form."
   ]
  },
  {
   "cell_type": "markdown",
   "metadata": {
    "deletable": true,
    "editable": true
   },
   "source": [
    "###### Date Feature"
   ]
  },
  {
   "cell_type": "code",
   "execution_count": 35,
   "metadata": {
    "collapsed": false,
    "deletable": true,
    "editable": true,
    "scrolled": false
   },
   "outputs": [
    {
     "name": "stdout",
     "output_type": "stream",
     "text": [
      "<class 'pandas.core.frame.DataFrame'>\n",
      "Int64Index: 282451 entries, 35312 to 415917\n",
      "Data columns (total 16 columns):\n",
      "Store           282451 non-null int64\n",
      "Dept            282451 non-null int64\n",
      "Date            282451 non-null object\n",
      "Weekly_Sales    282451 non-null float64\n",
      "IsHoliday       282451 non-null bool\n",
      "Type            282451 non-null object\n",
      "Size            282451 non-null int64\n",
      "Temperature     282451 non-null float64\n",
      "Fuel_Price      282451 non-null float64\n",
      "MarkDown1       282451 non-null float64\n",
      "MarkDown2       282451 non-null float64\n",
      "MarkDown3       282451 non-null float64\n",
      "MarkDown4       282451 non-null float64\n",
      "MarkDown5       282451 non-null float64\n",
      "CPI             282451 non-null float64\n",
      "Unemployment    282451 non-null float64\n",
      "dtypes: bool(1), float64(10), int64(3), object(2)\n",
      "memory usage: 34.7+ MB\n"
     ]
    }
   ],
   "source": [
    "train.info()"
   ]
  },
  {
   "cell_type": "code",
   "execution_count": 28,
   "metadata": {
    "collapsed": true,
    "deletable": true,
    "editable": true
   },
   "outputs": [],
   "source": [
    "train['Date'] = pd.to_datetime(train['Date'])\n",
    "test['Date'] = pd.to_datetime(test['Date'])"
   ]
  },
  {
   "cell_type": "code",
   "execution_count": 29,
   "metadata": {
    "collapsed": true,
    "deletable": true,
    "editable": true
   },
   "outputs": [],
   "source": [
    "# Extract date features\n",
    "train['Date_dayofweek'] =train['Date'].dt.dayofweek\n",
    "train['Date_month'] =train['Date'].dt.month \n",
    "train['Date_year'] =train['Date'].dt.year\n",
    "train['Date_day'] =train['Date'].dt.day \n",
    "\n",
    "test['Date_dayofweek'] =test['Date'].dt.dayofweek\n",
    "test['Date_month'] =test['Date'].dt.month \n",
    "test['Date_year'] =test['Date'].dt.year\n",
    "test['Date_day'] =test['Date'].dt.day "
   ]
  },
  {
   "cell_type": "code",
   "execution_count": 30,
   "metadata": {
    "collapsed": false,
    "deletable": true,
    "editable": true
   },
   "outputs": [
    {
     "name": "stdout",
     "output_type": "stream",
     "text": [
      "A    144649\n",
      "B    109454\n",
      "C     28348\n",
      "Name: Type, dtype: int64\n",
      "******************************\n",
      "A    70829\n",
      "B    54041\n",
      "C    14249\n",
      "Name: Type, dtype: int64\n"
     ]
    }
   ],
   "source": [
    "print (train.Type.value_counts())\n",
    "print (\"*\"*30)\n",
    "print (test.Type.value_counts())"
   ]
  },
  {
   "cell_type": "code",
   "execution_count": 31,
   "metadata": {
    "collapsed": false,
    "deletable": true,
    "editable": true
   },
   "outputs": [
    {
     "name": "stdout",
     "output_type": "stream",
     "text": [
      "False    262494\n",
      "True      19957\n",
      "Name: IsHoliday, dtype: int64\n",
      "******************************\n",
      "False    129415\n",
      "True       9704\n",
      "Name: IsHoliday, dtype: int64\n"
     ]
    }
   ],
   "source": [
    "print (train.IsHoliday.value_counts())\n",
    "print (\"*\"*30)\n",
    "print (test.IsHoliday.value_counts())"
   ]
  },
  {
   "cell_type": "code",
   "execution_count": 32,
   "metadata": {
    "collapsed": true,
    "deletable": true,
    "editable": true
   },
   "outputs": [],
   "source": [
    "train_test_data = [train, test]"
   ]
  },
  {
   "cell_type": "markdown",
   "metadata": {
    "deletable": true,
    "editable": true
   },
   "source": [
    "    Converting Categorical Variable 'Type' into Numerical Variable \n",
    "    For A=1 , B=2, C=3"
   ]
  },
  {
   "cell_type": "code",
   "execution_count": 33,
   "metadata": {
    "collapsed": true,
    "deletable": true,
    "editable": true
   },
   "outputs": [],
   "source": [
    "type_mapping = {\"A\": 1, \"B\": 2, \"C\": 3}\n",
    "for dataset in train_test_data:\n",
    "    dataset['Type'] = dataset['Type'].map(type_mapping)"
   ]
  },
  {
   "cell_type": "markdown",
   "metadata": {
    "deletable": true,
    "editable": true
   },
   "source": [
    "    Converting Categorical Variable 'IsHoliday' into Numerical Variable "
   ]
  },
  {
   "cell_type": "code",
   "execution_count": 34,
   "metadata": {
    "collapsed": true,
    "deletable": true,
    "editable": true
   },
   "outputs": [],
   "source": [
    "type_mapping = {False: 0, True: 1}\n",
    "for dataset in train_test_data:\n",
    "    dataset['IsHoliday'] = dataset['IsHoliday'].map(type_mapping)"
   ]
  },
  {
   "cell_type": "markdown",
   "metadata": {
    "deletable": true,
    "editable": true
   },
   "source": [
    "    Creating Extra Holiday Variable.\n",
    "    If that week comes under extra holiday then 1(=Yes) else 2(=No)"
   ]
  },
  {
   "cell_type": "markdown",
   "metadata": {
    "deletable": true,
    "editable": true
   },
   "source": [
    "Making New Holiday Variable Based on Given Data...."
   ]
  },
  {
   "cell_type": "code",
   "execution_count": 35,
   "metadata": {
    "collapsed": true,
    "deletable": true,
    "editable": true
   },
   "outputs": [],
   "source": [
    "train['Super_Bowl'] = np.where((train['Date']==datetime(2010, 2, 12)) | (train['Date']==datetime(2011, 2, 11)) | (train['Date']==datetime(2012, 2, 10)) | (train['Date']==datetime(2013, 2, 8)),1,0)\n",
    "train['Labour_Day'] = np.where((train['Date']==datetime(2010, 9, 10)) | (train['Date']==datetime(2011, 9, 9)) | (train['Date']==datetime(2012, 9, 7)) | (train['Date']==datetime(2013, 9, 6)),1,0)\n",
    "train['Thanksgiving'] = np.where((train['Date']==datetime(2010, 11, 26)) | (train['Date']==datetime(2011, 11, 25)) | (train['Date']==datetime(2012, 11, 23)) | (train['Date']==datetime(2013, 11, 29)),1,0)\n",
    "train['Christmas'] = np.where((train['Date']==datetime(2010, 12, 31)) | (train['Date']==datetime(2011, 12, 30)) | (train['Date']==datetime(2012, 12, 28)) | (train['Date']==datetime(2013, 12, 27)),1,0)\n",
    "#........................................................................\n",
    "test['Super_Bowl'] = np.where((test['Date']==datetime(2010, 2, 12)) | (test['Date']==datetime(2011, 2, 11)) | (test['Date']==datetime(2012, 2, 10)) | (test['Date']==datetime(2013, 2, 8)),1,0)\n",
    "test['Labour_Day'] = np.where((test['Date']==datetime(2010, 9, 10)) | (test['Date']==datetime(2011, 9, 9)) | (test['Date']==datetime(2012, 9, 7)) | (test['Date']==datetime(2013, 9, 6)),1,0)\n",
    "test['Thanksgiving'] = np.where((test['Date']==datetime(2010, 11, 26)) | (test['Date']==datetime(2011, 11, 25)) | (test['Date']==datetime(2012, 11, 23)) | (test['Date']==datetime(2013, 11, 29)),1,0)\n",
    "test['Christmas'] = np.where((test['Date']==datetime(2010, 12, 31)) | (test['Date']==datetime(2011, 12, 30)) | (test['Date']==datetime(2012, 12, 28)) | (test['Date']==datetime(2013, 12, 27)),1,0)\n"
   ]
  },
  {
   "cell_type": "code",
   "execution_count": 36,
   "metadata": {
    "collapsed": true,
    "deletable": true,
    "editable": true
   },
   "outputs": [],
   "source": [
    "# Altering the isHoliday value depending on these new holidays...\n",
    "train['IsHoliday']=train['IsHoliday']|train['Super_Bowl']|train['Labour_Day']|train['Thanksgiving']|train['Christmas']\n",
    "test['IsHoliday']=test['IsHoliday']|test['Super_Bowl']|test['Labour_Day']|test['Thanksgiving']|test['Christmas']"
   ]
  },
  {
   "cell_type": "code",
   "execution_count": 37,
   "metadata": {
    "collapsed": false,
    "deletable": true,
    "editable": true
   },
   "outputs": [
    {
     "name": "stdout",
     "output_type": "stream",
     "text": [
      "0    278445\n",
      "1      4006\n",
      "Name: Christmas, dtype: int64\n",
      "0    276490\n",
      "1      5961\n",
      "Name: Super_Bowl, dtype: int64\n",
      "0    278492\n",
      "1      3959\n",
      "Name: Thanksgiving, dtype: int64\n",
      "0    276420\n",
      "1      6031\n",
      "Name: Labour_Day, dtype: int64\n"
     ]
    }
   ],
   "source": [
    "print (train.Christmas.value_counts())\n",
    "print (train.Super_Bowl.value_counts())\n",
    "print (train.Thanksgiving.value_counts())\n",
    "print (train.Labour_Day.value_counts())"
   ]
  },
  {
   "cell_type": "code",
   "execution_count": 38,
   "metadata": {
    "collapsed": false,
    "deletable": true,
    "editable": true
   },
   "outputs": [
    {
     "name": "stdout",
     "output_type": "stream",
     "text": [
      "0    137179\n",
      "1      1940\n",
      "Name: Christmas, dtype: int64\n",
      "0    136185\n",
      "1      2934\n",
      "Name: Super_Bowl, dtype: int64\n",
      "0    137119\n",
      "1      2000\n",
      "Name: Thanksgiving, dtype: int64\n",
      "0    136289\n",
      "1      2830\n",
      "Name: Labour_Day, dtype: int64\n"
     ]
    }
   ],
   "source": [
    "print (test.Christmas.value_counts())\n",
    "print (test.Super_Bowl.value_counts())\n",
    "print (test.Thanksgiving.value_counts())\n",
    "print (test.Labour_Day.value_counts())"
   ]
  },
  {
   "cell_type": "code",
   "execution_count": 39,
   "metadata": {
    "collapsed": true,
    "deletable": true,
    "editable": true
   },
   "outputs": [],
   "source": [
    "# Since we have Imputed IsHoliday according to Extra holidays..These extra holiday variable has redundant..\n",
    "# Droping the Extra holiday variables because its redundant..\n",
    "dp=['Super_Bowl','Labour_Day','Thanksgiving','Christmas']\n",
    "train.drop(dp,axis=1,inplace=True)\n",
    "test.drop(dp,axis=1,inplace=True)"
   ]
  },
  {
   "cell_type": "markdown",
   "metadata": {
    "deletable": true,
    "editable": true
   },
   "source": [
    "### Feature Selection"
   ]
  },
  {
   "cell_type": "code",
   "execution_count": 48,
   "metadata": {
    "collapsed": false,
    "deletable": true,
    "editable": true
   },
   "outputs": [
    {
     "name": "stdout",
     "output_type": "stream",
     "text": [
      "<class 'pandas.core.frame.DataFrame'>\n",
      "Int64Index: 282451 entries, 35312 to 415917\n",
      "Data columns (total 20 columns):\n",
      "Store             282451 non-null int64\n",
      "Dept              282451 non-null int64\n",
      "Date              282451 non-null datetime64[ns]\n",
      "Weekly_Sales      282451 non-null float64\n",
      "IsHoliday         282451 non-null int64\n",
      "Type              282451 non-null int64\n",
      "Size              282451 non-null int64\n",
      "Temperature       282451 non-null float64\n",
      "Fuel_Price        282451 non-null float64\n",
      "MarkDown1         282451 non-null float64\n",
      "MarkDown2         282451 non-null float64\n",
      "MarkDown3         282451 non-null float64\n",
      "MarkDown4         282451 non-null float64\n",
      "MarkDown5         282451 non-null float64\n",
      "CPI               282451 non-null float64\n",
      "Unemployment      282451 non-null float64\n",
      "Date_dayofweek    282451 non-null int64\n",
      "Date_month        282451 non-null int64\n",
      "Date_year         282451 non-null int64\n",
      "Date_day          282451 non-null int64\n",
      "dtypes: datetime64[ns](1), float64(10), int64(9)\n",
      "memory usage: 45.3 MB\n"
     ]
    }
   ],
   "source": [
    "train.info()"
   ]
  },
  {
   "cell_type": "markdown",
   "metadata": {
    "deletable": true,
    "editable": true
   },
   "source": [
    "####    Droping irrelevant variable:\n",
    "    -Since we have imputed markdown variables therefore we will not be removing the all markdown variables.\n",
    "    -Removing MarkDown5 because its Highly Skewed"
   ]
  },
  {
   "cell_type": "code",
   "execution_count": 40,
   "metadata": {
    "collapsed": true,
    "deletable": true,
    "editable": true
   },
   "outputs": [],
   "source": [
    "features_drop=['Unemployment','CPI','MarkDown5']\n",
    "train=train.drop(features_drop, axis=1)\n",
    "test=test.drop(features_drop, axis=1)"
   ]
  },
  {
   "cell_type": "code",
   "execution_count": 41,
   "metadata": {
    "collapsed": false,
    "deletable": true,
    "editable": true,
    "scrolled": true
   },
   "outputs": [
    {
     "data": {
      "text/html": [
       "<div>\n",
       "<table border=\"1\" class=\"dataframe\">\n",
       "  <thead>\n",
       "    <tr style=\"text-align: right;\">\n",
       "      <th></th>\n",
       "      <th>Store</th>\n",
       "      <th>Dept</th>\n",
       "      <th>Date</th>\n",
       "      <th>Weekly_Sales</th>\n",
       "      <th>IsHoliday</th>\n",
       "      <th>Type</th>\n",
       "      <th>Size</th>\n",
       "      <th>Temperature</th>\n",
       "      <th>Fuel_Price</th>\n",
       "      <th>MarkDown1</th>\n",
       "      <th>MarkDown2</th>\n",
       "      <th>MarkDown3</th>\n",
       "      <th>MarkDown4</th>\n",
       "      <th>Date_dayofweek</th>\n",
       "      <th>Date_month</th>\n",
       "      <th>Date_year</th>\n",
       "      <th>Date_day</th>\n",
       "    </tr>\n",
       "  </thead>\n",
       "  <tbody>\n",
       "    <tr>\n",
       "      <th>278300</th>\n",
       "      <td>29</td>\n",
       "      <td>25</td>\n",
       "      <td>2010-06-11</td>\n",
       "      <td>6350.2</td>\n",
       "      <td>0</td>\n",
       "      <td>2</td>\n",
       "      <td>93638</td>\n",
       "      <td>65.01</td>\n",
       "      <td>2.830</td>\n",
       "      <td>0.0</td>\n",
       "      <td>0.0</td>\n",
       "      <td>0.0</td>\n",
       "      <td>0.0</td>\n",
       "      <td>4</td>\n",
       "      <td>6</td>\n",
       "      <td>2010</td>\n",
       "      <td>11</td>\n",
       "    </tr>\n",
       "    <tr>\n",
       "      <th>201063</th>\n",
       "      <td>21</td>\n",
       "      <td>34</td>\n",
       "      <td>2011-02-04</td>\n",
       "      <td>12992.8</td>\n",
       "      <td>0</td>\n",
       "      <td>2</td>\n",
       "      <td>140167</td>\n",
       "      <td>36.33</td>\n",
       "      <td>2.989</td>\n",
       "      <td>0.0</td>\n",
       "      <td>0.0</td>\n",
       "      <td>0.0</td>\n",
       "      <td>0.0</td>\n",
       "      <td>4</td>\n",
       "      <td>2</td>\n",
       "      <td>2011</td>\n",
       "      <td>4</td>\n",
       "    </tr>\n",
       "  </tbody>\n",
       "</table>\n",
       "</div>"
      ],
      "text/plain": [
       "        Store  Dept       Date  Weekly_Sales  IsHoliday  Type    Size  \\\n",
       "278300     29    25 2010-06-11        6350.2          0     2   93638   \n",
       "201063     21    34 2011-02-04       12992.8          0     2  140167   \n",
       "\n",
       "        Temperature  Fuel_Price  MarkDown1  MarkDown2  MarkDown3  MarkDown4  \\\n",
       "278300        65.01       2.830        0.0        0.0        0.0        0.0   \n",
       "201063        36.33       2.989        0.0        0.0        0.0        0.0   \n",
       "\n",
       "        Date_dayofweek  Date_month  Date_year  Date_day  \n",
       "278300               4           6       2010        11  \n",
       "201063               4           2       2011         4  "
      ]
     },
     "execution_count": 41,
     "metadata": {},
     "output_type": "execute_result"
    }
   ],
   "source": [
    "train.head(2)"
   ]
  },
  {
   "cell_type": "code",
   "execution_count": 42,
   "metadata": {
    "collapsed": false,
    "deletable": true,
    "editable": true,
    "scrolled": true
   },
   "outputs": [
    {
     "data": {
      "text/html": [
       "<div>\n",
       "<table border=\"1\" class=\"dataframe\">\n",
       "  <thead>\n",
       "    <tr style=\"text-align: right;\">\n",
       "      <th></th>\n",
       "      <th>Store</th>\n",
       "      <th>Dept</th>\n",
       "      <th>Date</th>\n",
       "      <th>Weekly_Sales</th>\n",
       "      <th>IsHoliday</th>\n",
       "      <th>Type</th>\n",
       "      <th>Size</th>\n",
       "      <th>Temperature</th>\n",
       "      <th>Fuel_Price</th>\n",
       "      <th>MarkDown1</th>\n",
       "      <th>MarkDown2</th>\n",
       "      <th>MarkDown3</th>\n",
       "      <th>MarkDown4</th>\n",
       "      <th>Date_dayofweek</th>\n",
       "      <th>Date_month</th>\n",
       "      <th>Date_year</th>\n",
       "      <th>Date_day</th>\n",
       "    </tr>\n",
       "  </thead>\n",
       "  <tbody>\n",
       "    <tr>\n",
       "      <th>380580</th>\n",
       "      <td>40</td>\n",
       "      <td>34</td>\n",
       "      <td>2012-09-21</td>\n",
       "      <td>6243.7</td>\n",
       "      <td>0</td>\n",
       "      <td>1</td>\n",
       "      <td>155083</td>\n",
       "      <td>54.12</td>\n",
       "      <td>4.056</td>\n",
       "      <td>3688.63</td>\n",
       "      <td>7.64</td>\n",
       "      <td>0.0</td>\n",
       "      <td>693.23</td>\n",
       "      <td>4</td>\n",
       "      <td>9</td>\n",
       "      <td>2012</td>\n",
       "      <td>21</td>\n",
       "    </tr>\n",
       "    <tr>\n",
       "      <th>53380</th>\n",
       "      <td>6</td>\n",
       "      <td>36</td>\n",
       "      <td>2011-04-29</td>\n",
       "      <td>3131.0</td>\n",
       "      <td>0</td>\n",
       "      <td>1</td>\n",
       "      <td>202505</td>\n",
       "      <td>75.27</td>\n",
       "      <td>3.810</td>\n",
       "      <td>0.00</td>\n",
       "      <td>0.00</td>\n",
       "      <td>0.0</td>\n",
       "      <td>0.00</td>\n",
       "      <td>4</td>\n",
       "      <td>4</td>\n",
       "      <td>2011</td>\n",
       "      <td>29</td>\n",
       "    </tr>\n",
       "  </tbody>\n",
       "</table>\n",
       "</div>"
      ],
      "text/plain": [
       "        Store  Dept       Date  Weekly_Sales  IsHoliday  Type    Size  \\\n",
       "380580     40    34 2012-09-21        6243.7          0     1  155083   \n",
       "53380       6    36 2011-04-29        3131.0          0     1  202505   \n",
       "\n",
       "        Temperature  Fuel_Price  MarkDown1  MarkDown2  MarkDown3  MarkDown4  \\\n",
       "380580        54.12       4.056    3688.63       7.64        0.0     693.23   \n",
       "53380         75.27       3.810       0.00       0.00        0.0       0.00   \n",
       "\n",
       "        Date_dayofweek  Date_month  Date_year  Date_day  \n",
       "380580               4           9       2012        21  \n",
       "53380                4           4       2011        29  "
      ]
     },
     "execution_count": 42,
     "metadata": {},
     "output_type": "execute_result"
    }
   ],
   "source": [
    "test.head(2)"
   ]
  },
  {
   "cell_type": "code",
   "execution_count": 35,
   "metadata": {
    "collapsed": true,
    "deletable": true,
    "editable": true
   },
   "outputs": [],
   "source": [
    "# Converting all float var int integer..\n",
    "#for var in train:\n",
    "#    if train[var].dtypes == float:\n",
    "#        train[var]=train[var].astype(int)\n",
    "        \n",
    "#for var in test:\n",
    "#    if test[var].dtypes == float:\n",
    "#test[var]=test[var].astype(int)"
   ]
  },
  {
   "cell_type": "markdown",
   "metadata": {
    "deletable": true,
    "editable": true
   },
   "source": [
    "____"
   ]
  },
  {
   "cell_type": "markdown",
   "metadata": {
    "deletable": true,
    "editable": true
   },
   "source": [
    "### Classification & Accuracy\n",
    "    Define training and testing set"
   ]
  },
  {
   "cell_type": "code",
   "execution_count": 43,
   "metadata": {
    "collapsed": false,
    "deletable": true,
    "editable": true
   },
   "outputs": [
    {
     "name": "stdout",
     "output_type": "stream",
     "text": [
      "(282451, 15) (282451,) (139119, 15) (139119,)\n"
     ]
    }
   ],
   "source": [
    "#### train X= Exery thing except Weekly_Sales\n",
    "train_X=train.drop(['Weekly_Sales','Date'], axis=1)\n",
    "#### train Y= Only Weekly_Sales \n",
    "train_y=train['Weekly_Sales'] \n",
    "\n",
    "#test_X=test.drop(['Weekly_Sales','Date'], axis=1)\n",
    "test_X=test.drop(['Weekly_Sales','Date'], axis=1).copy()\n",
    "test_y = test['Weekly_Sales']\n",
    "\n",
    "print(train_X.shape, train_y.shape, test_X.shape,test_y.shape)"
   ]
  },
  {
   "cell_type": "code",
   "execution_count": 44,
   "metadata": {
    "collapsed": true,
    "deletable": true,
    "editable": true
   },
   "outputs": [],
   "source": [
    "import sklearn.metrics as sm\n",
    "#round(sm.r2_score(test_y, y_pred_rf), 2)"
   ]
  },
  {
   "cell_type": "markdown",
   "metadata": {
    "deletable": true,
    "editable": true
   },
   "source": [
    "### Building models & comparing their RMSE values"
   ]
  },
  {
   "cell_type": "markdown",
   "metadata": {
    "deletable": true,
    "editable": true
   },
   "source": [
    "#### 1.Linear Regression"
   ]
  },
  {
   "cell_type": "code",
   "execution_count": 45,
   "metadata": {
    "collapsed": false,
    "deletable": true,
    "editable": true
   },
   "outputs": [
    {
     "name": "stdout",
     "output_type": "stream",
     "text": [
      "R2 score =  0.08\n",
      "Explained variance score = 0.09\n"
     ]
    }
   ],
   "source": [
    "## Methood 1..\n",
    "clf = LinearRegression()\n",
    "clf.fit(train_X, train_y)\n",
    "y_pred_linear=clf.predict(test_X)\n",
    "#acc_linear=round( clf.score(y_pred_linear,test_y) * 100, 2)\n",
    "#print ('score:'+str(acc_linear) + ' percent')\n",
    "print(\"R2 score = \", round(sm.r2_score(test_y, y_pred_linear), 2))\n",
    "print(\"Explained variance score =\", round(sm.explained_variance_score(test_y, y_pred_linear), 2))\n",
    "\n",
    "\n"
   ]
  },
  {
   "cell_type": "markdown",
   "metadata": {
    "deletable": true,
    "editable": true
   },
   "source": [
    "#### 2. Random Forest"
   ]
  },
  {
   "cell_type": "code",
   "execution_count": 46,
   "metadata": {
    "collapsed": false,
    "deletable": true,
    "editable": true,
    "scrolled": true
   },
   "outputs": [
    {
     "name": "stdout",
     "output_type": "stream",
     "text": [
      "R2 score = 0.93\n",
      "Explained variance score = 0.93\n",
      "Accuracy :  93.0 percent\n"
     ]
    }
   ],
   "source": [
    "clf = RandomForestRegressor(n_estimators=100)\n",
    "clf.fit(train_X, train_y)\n",
    "y_pred_rf=clf.predict(test_X)\n",
    "print(\"R2 score =\", round(sm.r2_score(test_y, y_pred_rf), 2))\n",
    "print(\"Explained variance score =\", round(sm.explained_variance_score(test_y, y_pred_rf), 2))\n",
    "print(\"Accuracy : \" ,(round(sm.r2_score(test_y, y_pred_rf), 2))*100, \"percent\")\n",
    "#acc_rf= round(clf.score(train_X, train_y) * 100, 2)\n",
    "#print (\"Accuracy: \" +str(acc_rf)+ 'percent')"
   ]
  },
  {
   "cell_type": "markdown",
   "metadata": {
    "collapsed": true,
    "deletable": true,
    "editable": true
   },
   "source": [
    " #### 3. Decision Tree"
   ]
  },
  {
   "cell_type": "code",
   "execution_count": 47,
   "metadata": {
    "collapsed": false,
    "deletable": true,
    "editable": true
   },
   "outputs": [
    {
     "name": "stdout",
     "output_type": "stream",
     "text": [
      "R2 score = 0.91\n",
      "Explained variance score = 0.91\n",
      "Accuracy :  91.0 percent\n"
     ]
    }
   ],
   "source": [
    "clf=DecisionTreeRegressor()\n",
    "clf.fit(train_X, train_y)\n",
    "y_pred_dt= clf.predict(test_X)\n",
    "print(\"R2 score =\", round(sm.r2_score(test_y, y_pred_dt), 2))\n",
    "print(\"Explained variance score =\", round(sm.explained_variance_score(test_y, y_pred_dt), 2))\n",
    "print(\"Accuracy : \" ,(round(sm.r2_score(test_y, y_pred_dt), 2))*100, \"percent\")\n",
    "#acc_dt = round( clf.score(train_X, train_y) * 100, 2)\n",
    "#print( \"Accuracy: \" +str(acc_dt) + ' percent')"
   ]
  },
  {
   "cell_type": "markdown",
   "metadata": {
    "deletable": true,
    "editable": true
   },
   "source": [
    "#### 4. Gradient Boosting "
   ]
  },
  {
   "cell_type": "code",
   "execution_count": 48,
   "metadata": {
    "collapsed": false,
    "deletable": true,
    "editable": true
   },
   "outputs": [
    {
     "name": "stdout",
     "output_type": "stream",
     "text": [
      "R2 score = 0.71\n",
      "Explained variance score = 0.71\n",
      "Accuracy :  71.0 percent\n"
     ]
    }
   ],
   "source": [
    "clf = GradientBoostingRegressor(n_estimators=100)\n",
    "clf.fit(train_X, train_y)\n",
    "y_pred_gb = clf.predict(test_X)\n",
    "print(\"R2 score =\", round(sm.r2_score(test_y, y_pred_gb), 2))\n",
    "print(\"Explained variance score =\", round(sm.explained_variance_score(test_y, y_pred_gb), 2))\n",
    "print(\"Accuracy : \" ,(round(sm.r2_score(test_y, y_pred_gb), 2))*100, \"percent\")\n",
    "#acc_gb = round (clf.score(train_X, train_y)*100, 2)\n",
    "#print(\"Accuracy: \" +str(acc_gb)+ 'percent')\n"
   ]
  },
  {
   "cell_type": "markdown",
   "metadata": {
    "deletable": true,
    "editable": true
   },
   "source": [
    "#### 5. AdaBoost"
   ]
  },
  {
   "cell_type": "code",
   "execution_count": 49,
   "metadata": {
    "collapsed": false,
    "deletable": true,
    "editable": true
   },
   "outputs": [
    {
     "name": "stdout",
     "output_type": "stream",
     "text": [
      "R2 Score : 0.24\n",
      "Explained Variance Score :  0.44\n",
      "Accuracy :  24.0 percent\n"
     ]
    }
   ],
   "source": [
    "clf = AdaBoostRegressor()\n",
    "clf.fit(train_X,train_y)\n",
    "y_pred_ab = clf.predict(test_X)\n",
    "print(\"R2 Score :\" , round(sm.r2_score(test_y, y_pred_ab),2) )\n",
    "print(\"Explained Variance Score : \", round(sm.explained_variance_score(test_y, y_pred_ab),2) )\n",
    "print(\"Accuracy : \", (round(sm.r2_score(test_y, y_pred_ab),2))*100, \"percent\")"
   ]
  },
  {
   "cell_type": "code",
   "execution_count": 50,
   "metadata": {
    "collapsed": true,
    "deletable": true,
    "editable": true
   },
   "outputs": [],
   "source": [
    "acc_linear =  (round(sm.r2_score(test_y, y_pred_linear), 2))\n",
    "acc_rf = (round(sm.r2_score(test_y, y_pred_rf), 2))\n",
    "acc_dt = (round(sm.r2_score(test_y, y_pred_dt), 2))\n",
    "acc_gb = (round(sm.r2_score(test_y, y_pred_gb), 2))\n",
    "acc_ab = (round(sm.r2_score(test_y, y_pred_ab),2))"
   ]
  },
  {
   "cell_type": "markdown",
   "metadata": {
    "deletable": true,
    "editable": true
   },
   "source": [
    "#### Comparing Models\n",
    "Let's compare the accuracy score of all the regression models used above."
   ]
  },
  {
   "cell_type": "code",
   "execution_count": 51,
   "metadata": {
    "collapsed": false,
    "deletable": true,
    "editable": true,
    "scrolled": true
   },
   "outputs": [
    {
     "data": {
      "text/html": [
       "<div>\n",
       "<table border=\"1\" class=\"dataframe\">\n",
       "  <thead>\n",
       "    <tr style=\"text-align: right;\">\n",
       "      <th></th>\n",
       "      <th>Model</th>\n",
       "      <th>Score</th>\n",
       "    </tr>\n",
       "  </thead>\n",
       "  <tbody>\n",
       "    <tr>\n",
       "      <th>1</th>\n",
       "      <td>Random Forest</td>\n",
       "      <td>93.0</td>\n",
       "    </tr>\n",
       "    <tr>\n",
       "      <th>2</th>\n",
       "      <td>Decision Tree</td>\n",
       "      <td>91.0</td>\n",
       "    </tr>\n",
       "    <tr>\n",
       "      <th>3</th>\n",
       "      <td>Gradient Boosting</td>\n",
       "      <td>71.0</td>\n",
       "    </tr>\n",
       "    <tr>\n",
       "      <th>4</th>\n",
       "      <td>AdaBoost</td>\n",
       "      <td>24.0</td>\n",
       "    </tr>\n",
       "    <tr>\n",
       "      <th>0</th>\n",
       "      <td>Linear Regression</td>\n",
       "      <td>8.0</td>\n",
       "    </tr>\n",
       "  </tbody>\n",
       "</table>\n",
       "</div>"
      ],
      "text/plain": [
       "               Model  Score\n",
       "1      Random Forest   93.0\n",
       "2      Decision Tree   91.0\n",
       "3  Gradient Boosting   71.0\n",
       "4           AdaBoost   24.0\n",
       "0  Linear Regression    8.0"
      ]
     },
     "execution_count": 51,
     "metadata": {},
     "output_type": "execute_result"
    }
   ],
   "source": [
    "models = pd.DataFrame({\n",
    "    'Model': ['Linear Regression','Random Forest','Decision Tree', 'Gradient Boosting', 'AdaBoost'],\n",
    "    \n",
    "    'Score': [acc_linear, acc_rf,acc_dt, acc_gb, acc_ab]\n",
    "    })\n",
    "\n",
    "models.sort_values(by='Score', ascending=False)"
   ]
  },
  {
   "cell_type": "markdown",
   "metadata": {
    "deletable": true,
    "editable": true
   },
   "source": [
    "**Predicting Sales value for test data based on highest score model.**"
   ]
  },
  {
   "cell_type": "code",
   "execution_count": 74,
   "metadata": {
    "collapsed": false,
    "deletable": true,
    "editable": true
   },
   "outputs": [],
   "source": [
    "# Prediction value using Random Forest model..\n",
    "submission = pd.DataFrame({\n",
    "        \"Store\" : test.Store.astype(str),\n",
    "        \"Dept\" :  test.Dept.astype(str),\n",
    "        \"Date\": test.Date.astype(str),\n",
    "        \"Weekly_Sales\": y_pred_rf\n",
    "    })\n",
    "\n",
    "submission[\"Date\"] = pd.to_datetime(submission[\"Date\"])\n",
    "\n",
    "submission = submission.sort_values(by=\"Date\")\n",
    "\n",
    "submission[\"Store_Dept_Date\"] = submission[\"Store\"].astype(str) + '_' + submission[\"Dept\"].astype(str) + '_' + submission[\"Date\"].astype(str)\n"
   ]
  },
  {
   "cell_type": "code",
   "execution_count": 75,
   "metadata": {
    "collapsed": false,
    "deletable": true,
    "editable": true,
    "scrolled": true
   },
   "outputs": [
    {
     "data": {
      "text/html": [
       "<div>\n",
       "<table border=\"1\" class=\"dataframe\">\n",
       "  <thead>\n",
       "    <tr style=\"text-align: right;\">\n",
       "      <th></th>\n",
       "      <th>Date</th>\n",
       "      <th>Dept</th>\n",
       "      <th>Store</th>\n",
       "      <th>Weekly_Sales</th>\n",
       "      <th>Store_Dept_Date</th>\n",
       "    </tr>\n",
       "  </thead>\n",
       "  <tbody>\n",
       "    <tr>\n",
       "      <th>107903</th>\n",
       "      <td>2010-02-05</td>\n",
       "      <td>3</td>\n",
       "      <td>12</td>\n",
       "      <td>15480.1845</td>\n",
       "      <td>12_3_2010-02-05</td>\n",
       "    </tr>\n",
       "    <tr>\n",
       "      <th>330790</th>\n",
       "      <td>2010-02-05</td>\n",
       "      <td>34</td>\n",
       "      <td>35</td>\n",
       "      <td>31877.7780</td>\n",
       "      <td>35_34_2010-02-05</td>\n",
       "    </tr>\n",
       "    <tr>\n",
       "      <th>117654</th>\n",
       "      <td>2010-02-05</td>\n",
       "      <td>52</td>\n",
       "      <td>13</td>\n",
       "      <td>5097.8980</td>\n",
       "      <td>13_52_2010-02-05</td>\n",
       "    </tr>\n",
       "    <tr>\n",
       "      <th>157470</th>\n",
       "      <td>2010-02-05</td>\n",
       "      <td>7</td>\n",
       "      <td>17</td>\n",
       "      <td>12215.4300</td>\n",
       "      <td>17_7_2010-02-05</td>\n",
       "    </tr>\n",
       "    <tr>\n",
       "      <th>187390</th>\n",
       "      <td>2010-02-05</td>\n",
       "      <td>71</td>\n",
       "      <td>20</td>\n",
       "      <td>13604.4327</td>\n",
       "      <td>20_71_2010-02-05</td>\n",
       "    </tr>\n",
       "  </tbody>\n",
       "</table>\n",
       "</div>"
      ],
      "text/plain": [
       "             Date Dept Store  Weekly_Sales   Store_Dept_Date\n",
       "107903 2010-02-05    3    12    15480.1845   12_3_2010-02-05\n",
       "330790 2010-02-05   34    35    31877.7780  35_34_2010-02-05\n",
       "117654 2010-02-05   52    13     5097.8980  13_52_2010-02-05\n",
       "157470 2010-02-05    7    17    12215.4300   17_7_2010-02-05\n",
       "187390 2010-02-05   71    20    13604.4327  20_71_2010-02-05"
      ]
     },
     "execution_count": 75,
     "metadata": {},
     "output_type": "execute_result"
    }
   ],
   "source": [
    "submission.head()"
   ]
  },
  {
   "cell_type": "code",
   "execution_count": 80,
   "metadata": {
    "collapsed": false,
    "deletable": true,
    "editable": true
   },
   "outputs": [
    {
     "data": {
      "image/png": "[encoded data removed]",
      "text/plain": [
       "<matplotlib.figure.Figure at 0x2428373d7f0>"
      ]
     },
     "metadata": {},
     "output_type": "display_data"
    }
   ],
   "source": [
    "submission.tail(10).plot(x='Store_Dept_Date', y='Weekly_Sales',figsize=(20,8), kind='line')\n",
    "plt.savefig(\"Walmart_Predict_RF.jpg\")\n",
    "plt.show()\n"
   ]
  },
  {
   "cell_type": "markdown",
   "metadata": {
    "deletable": true,
    "editable": true
   },
   "source": [
    "    ************* THE END **************************************************************************************************"
   ]
  },
  {
   "cell_type": "code",
   "execution_count": null,
   "metadata": {
    "collapsed": true,
    "deletable": true,
    "editable": true
   },
   "outputs": [],
   "source": []
  }
 ],
 "metadata": {
  "kernelspec": {
   "display_name": "Python 3",
   "language": "python",
   "name": "python3"
  },
  "language_info": {
   "codemirror_mode": {
    "name": "ipython",
    "version": 3
   },
   "file_extension": ".py",
   "mimetype": "text/x-python",
   "name": "python",
   "nbconvert_exporter": "python",
   "pygments_lexer": "ipython3",
   "version": "3.5.2"
  }
 },
 "nbformat": 4,
 "nbformat_minor": 2
}
